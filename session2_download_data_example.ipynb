{
 "cells": [
  {
   "attachments": {},
   "cell_type": "markdown",
   "metadata": {},
   "source": [
    "#### Example: Downloading and writing to disk a raster map\n",
    "\n"
   ]
  },
  {
   "cell_type": "code",
   "execution_count": 1,
   "metadata": {},
   "outputs": [],
   "source": [
    "import os\n",
    "import pandas as pd, geopandas as gp, numpy as np\n",
    "import rasterio\n",
    "from rasterio.windows import Window\n",
    "from rasterio.enums import Resampling\n",
    "from rasterio.warp import calculate_default_transform, reproject, Resampling\n",
    "from shapely.geometry import shape\n",
    "from rasterio.windows import from_bounds\n",
    "from tqdm import tqdm\n",
    "from matplotlib import pyplot as plt"
   ]
  },
  {
   "cell_type": "code",
   "execution_count": 2,
   "metadata": {},
   "outputs": [],
   "source": [
    "try: os.chdir('/home/jovyan/work/')\n",
    "except: pass"
   ]
  },
  {
   "cell_type": "markdown",
   "metadata": {},
   "source": [
    "### What is this code doing?\n",
    "\n",
    "In this code, we will download elevation data for the Metropolitan Statistical Area of Indianapolis. For this purpose, I have made life easier in two ways. \n",
    "\n",
    "First, I have already downloaded the geodataframe with the shapes of tiles for the 1 arc-degree digital elevation model of the USGS (Sourced `https://cugir-data.s3.amazonaws.com/00/90/96/cugir-009096-index.geojson`). \n",
    "\n",
    "Second, I have also sourced a geodataframe with the boundaries of the Metropolitan Statistical Areas according to 1999 definitions, which was constructed by Gilles Duranton and Diego Puga for \"Urban Growth and its Aggregate Implications\" and is available as part of the replication package here: `https://diegopuga.org/data/urbangrowth/`\n",
    "\n",
    "With these two pieces of information, we are going to do the following: We are going to spatially join the tiles of the elevation model data with the MSA shape of the city of Indianapolis to get the tiles that cover the metropolitan area of Indianapolis. Then, we are going to create a raster dataset with the extent of these tiles. For each of the data URLs associated to these tiles, we are going to download the elevation raster and write it to the corresponding coordinates in our target dataset. In this way, we save to our computer a contiguous elevation dataset which covers our required extent. "
   ]
  },
  {
   "cell_type": "code",
   "execution_count": 3,
   "metadata": {},
   "outputs": [],
   "source": [
    "##Read in the files\n",
    "quads_localfile = ('./data/elevation_quads.geojson')\n",
    "msa_localfile = ('./data/msa1999_boundaries.shp')\n",
    "elevation_quads = gp.read_file(quads_localfile)\n",
    "msa_1999 = gp.read_file(msa_localfile).to_crs(elevation_quads.crs)"
   ]
  },
  {
   "cell_type": "code",
   "execution_count": 4,
   "metadata": {},
   "outputs": [],
   "source": [
    "##Get the bounds of the conterminous USA from the MSA shapefile\n",
    "bounds = msa_1999.to_crs(elevation_quads.crs).dissolve().bounds.values[0]"
   ]
  },
  {
   "cell_type": "code",
   "execution_count": 5,
   "metadata": {},
   "outputs": [],
   "source": [
    "elevation_quads = elevation_quads.cx[bounds[0]:bounds[2],bounds[3]:bounds[1]] #Trim elevation quads to the extent of the conterminous USA\n",
    "non_empty_bool = []\n",
    "for i in range(len(elevation_quads.index)):\n",
    "    url = elevation_quads.iloc[i].downloadUrl #Check URL for raster data exists\n",
    "    non_empty_bool.append(len(url) > 0) #Append to bool list\n",
    "elevation_quads = elevation_quads[non_empty_bool] #Keep only tiles with raster data"
   ]
  },
  {
   "cell_type": "code",
   "execution_count": 6,
   "metadata": {},
   "outputs": [],
   "source": [
    "##Get the geodataframe row for Indianapolis:\n",
    "indy_shape = msa_1999[['Indianapolis' in name for name in msa_1999.NAME]]"
   ]
  },
  {
   "cell_type": "markdown",
   "metadata": {},
   "source": [
    "#### Plot the elevation tiles and the shape of the Indianapolis MSA together:\n",
    "\n",
    "This little code plots the two geodataframes together, we can notice that the MSA of Indianapolis overlaps with four tiles of the elevation dataset."
   ]
  },
  {
   "cell_type": "code",
   "execution_count": 7,
   "metadata": {},
   "outputs": [
    {
     "data": {
      "text/plain": [
       "<Axes: >"
      ]
     },
     "execution_count": 7,
     "metadata": {},
     "output_type": "execute_result"
    },
    {
     "data": {
      "image/png": "[encoded data removed]",
      "text/plain": [
       "<Figure size 800x500 with 1 Axes>"
      ]
     },
     "metadata": {},
     "output_type": "display_data"
    }
   ],
   "source": [
    "f, ax = plt.subplots(1, figsize = (8, 5))\n",
    "\n",
    "elevation_quads.plot(ax = ax, edgecolor = 'black', linewidth = 0.4)\n",
    "indy_shape.plot(ax = ax, color = 'red')\n"
   ]
  },
  {
   "cell_type": "markdown",
   "metadata": {},
   "source": [
    "#### Get a sample array to see what it looks like:\n",
    "\n",
    "Take a random row, open the data, and see its shape: it is 3612*3612. (Actually, the documentation of this dataset states that each tile overlaps with the next one by six pixels, so that later in the download we will be trimming the outermost six pixels of each tile so that they can be joined seamlessly)"
   ]
  },
  {
   "cell_type": "code",
   "execution_count": 8,
   "metadata": {},
   "outputs": [
    {
     "name": "stdout",
     "output_type": "stream",
     "text": [
      "(3612, 3612)\n"
     ]
    }
   ],
   "source": [
    "with rasterio.open(elevation_quads.iloc[3].downloadUrl) as sample_raster:# open with rasterio the cloud-stored data using the download url\n",
    "    sample_array = sample_raster.read()[0,:,:]\n",
    "    print(sample_array.shape)"
   ]
  },
  {
   "cell_type": "markdown",
   "metadata": {},
   "source": [
    "#### Do a spatial join to keep the tiles that overlap with Indianapolis"
   ]
  },
  {
   "cell_type": "code",
   "execution_count": 9,
   "metadata": {},
   "outputs": [
    {
     "data": {
      "text/html": [
       "<div>\n",
       "<style scoped>\n",
       "    .dataframe tbody tr th:only-of-type {\n",
       "        vertical-align: middle;\n",
       "    }\n",
       "\n",
       "    .dataframe tbody tr th {\n",
       "        vertical-align: top;\n",
       "    }\n",
       "\n",
       "    .dataframe thead th {\n",
       "        text-align: right;\n",
       "    }\n",
       "</style>\n",
       "<table border=\"1\" class=\"dataframe\">\n",
       "  <thead>\n",
       "    <tr style=\"text-align: right;\">\n",
       "      <th></th>\n",
       "      <th>title</th>\n",
       "      <th>label</th>\n",
       "      <th>available</th>\n",
       "      <th>downloadUrl</th>\n",
       "      <th>websiteUrl</th>\n",
       "      <th>size</th>\n",
       "      <th>geometry</th>\n",
       "      <th>index_right</th>\n",
       "      <th>FIPS</th>\n",
       "      <th>Cnt_FIPS</th>\n",
       "      <th>NAME</th>\n",
       "      <th>AREA_HA</th>\n",
       "      <th>XCOORD</th>\n",
       "      <th>YCOORD</th>\n",
       "    </tr>\n",
       "  </thead>\n",
       "  <tbody>\n",
       "    <tr>\n",
       "      <th>86</th>\n",
       "      <td>USGS 1 Arc Second n40w086 20210617</td>\n",
       "      <td>n40w086</td>\n",
       "      <td>true</td>\n",
       "      <td>https://prd-tnm.s3.amazonaws.com/StagedProduct...</td>\n",
       "      <td>https://www.sciencebase.gov/catalog/item/60d2c...</td>\n",
       "      <td>50 MB</td>\n",
       "      <td>POLYGON ((-86.00000 39.00000, -85.00000 39.000...</td>\n",
       "      <td>114</td>\n",
       "      <td>3480</td>\n",
       "      <td>1</td>\n",
       "      <td>Indianapolis, IN</td>\n",
       "      <td>917267</td>\n",
       "      <td>-86.117349</td>\n",
       "      <td>39.807328</td>\n",
       "    </tr>\n",
       "    <tr>\n",
       "      <th>87</th>\n",
       "      <td>USGS 1 Arc Second n40w087 20210617</td>\n",
       "      <td>n40w087</td>\n",
       "      <td>true</td>\n",
       "      <td>https://prd-tnm.s3.amazonaws.com/StagedProduct...</td>\n",
       "      <td>https://www.sciencebase.gov/catalog/item/60d2c...</td>\n",
       "      <td>53 MB</td>\n",
       "      <td>POLYGON ((-87.00000 39.00000, -86.00000 39.000...</td>\n",
       "      <td>114</td>\n",
       "      <td>3480</td>\n",
       "      <td>1</td>\n",
       "      <td>Indianapolis, IN</td>\n",
       "      <td>917267</td>\n",
       "      <td>-86.117349</td>\n",
       "      <td>39.807328</td>\n",
       "    </tr>\n",
       "    <tr>\n",
       "      <th>104</th>\n",
       "      <td>USGS 1 Arc Second n41w086 20210617</td>\n",
       "      <td>n41w086</td>\n",
       "      <td>true</td>\n",
       "      <td>https://prd-tnm.s3.amazonaws.com/StagedProduct...</td>\n",
       "      <td>https://www.sciencebase.gov/catalog/item/60d2c...</td>\n",
       "      <td>49 MB</td>\n",
       "      <td>POLYGON ((-86.00000 40.00000, -85.00000 40.000...</td>\n",
       "      <td>114</td>\n",
       "      <td>3480</td>\n",
       "      <td>1</td>\n",
       "      <td>Indianapolis, IN</td>\n",
       "      <td>917267</td>\n",
       "      <td>-86.117349</td>\n",
       "      <td>39.807328</td>\n",
       "    </tr>\n",
       "    <tr>\n",
       "      <th>105</th>\n",
       "      <td>USGS 1 Arc Second n41w087 20210617</td>\n",
       "      <td>n41w087</td>\n",
       "      <td>true</td>\n",
       "      <td>https://prd-tnm.s3.amazonaws.com/StagedProduct...</td>\n",
       "      <td>https://www.sciencebase.gov/catalog/item/60d2c...</td>\n",
       "      <td>50 MB</td>\n",
       "      <td>POLYGON ((-87.00000 40.00000, -86.00000 40.000...</td>\n",
       "      <td>114</td>\n",
       "      <td>3480</td>\n",
       "      <td>1</td>\n",
       "      <td>Indianapolis, IN</td>\n",
       "      <td>917267</td>\n",
       "      <td>-86.117349</td>\n",
       "      <td>39.807328</td>\n",
       "    </tr>\n",
       "  </tbody>\n",
       "</table>\n",
       "</div>"
      ],
      "text/plain": [
       "                                  title    label available  \\\n",
       "86   USGS 1 Arc Second n40w086 20210617  n40w086      true   \n",
       "87   USGS 1 Arc Second n40w087 20210617  n40w087      true   \n",
       "104  USGS 1 Arc Second n41w086 20210617  n41w086      true   \n",
       "105  USGS 1 Arc Second n41w087 20210617  n41w087      true   \n",
       "\n",
       "                                           downloadUrl  \\\n",
       "86   https://prd-tnm.s3.amazonaws.com/StagedProduct...   \n",
       "87   https://prd-tnm.s3.amazonaws.com/StagedProduct...   \n",
       "104  https://prd-tnm.s3.amazonaws.com/StagedProduct...   \n",
       "105  https://prd-tnm.s3.amazonaws.com/StagedProduct...   \n",
       "\n",
       "                                            websiteUrl   size  \\\n",
       "86   https://www.sciencebase.gov/catalog/item/60d2c...  50 MB   \n",
       "87   https://www.sciencebase.gov/catalog/item/60d2c...  53 MB   \n",
       "104  https://www.sciencebase.gov/catalog/item/60d2c...  49 MB   \n",
       "105  https://www.sciencebase.gov/catalog/item/60d2c...  50 MB   \n",
       "\n",
       "                                              geometry  index_right  FIPS  \\\n",
       "86   POLYGON ((-86.00000 39.00000, -85.00000 39.000...          114  3480   \n",
       "87   POLYGON ((-87.00000 39.00000, -86.00000 39.000...          114  3480   \n",
       "104  POLYGON ((-86.00000 40.00000, -85.00000 40.000...          114  3480   \n",
       "105  POLYGON ((-87.00000 40.00000, -86.00000 40.000...          114  3480   \n",
       "\n",
       "     Cnt_FIPS              NAME  AREA_HA     XCOORD     YCOORD  \n",
       "86          1  Indianapolis, IN   917267 -86.117349  39.807328  \n",
       "87          1  Indianapolis, IN   917267 -86.117349  39.807328  \n",
       "104         1  Indianapolis, IN   917267 -86.117349  39.807328  \n",
       "105         1  Indianapolis, IN   917267 -86.117349  39.807328  "
      ]
     },
     "execution_count": 9,
     "metadata": {},
     "output_type": "execute_result"
    }
   ],
   "source": [
    "elevation_quads = elevation_quads.sjoin(msa_1999[['Indianapolis' in name for name in msa_1999.NAME]])\n",
    "elevation_quads"
   ]
  },
  {
   "cell_type": "markdown",
   "metadata": {},
   "source": [
    "#### What are the bounds of these four tiles?"
   ]
  },
  {
   "cell_type": "code",
   "execution_count": 10,
   "metadata": {},
   "outputs": [
    {
     "data": {
      "text/plain": [
       "array([-87.,  39., -85.,  41.])"
      ]
     },
     "execution_count": 10,
     "metadata": {},
     "output_type": "execute_result"
    }
   ],
   "source": [
    "elevation_bounds = elevation_quads.total_bounds\n",
    "elevation_bounds"
   ]
  },
  {
   "cell_type": "markdown",
   "metadata": {},
   "source": [
    "#### Create the \"transform\" object for the new dataset\n",
    "\n",
    "Create the transform object of the new dataset given its bounds and the fact that it will be a square of size 7200*7200 (Using a method in Rasterio)"
   ]
  },
  {
   "cell_type": "code",
   "execution_count": 11,
   "metadata": {},
   "outputs": [],
   "source": [
    "transform_copy = rasterio.transform.from_bounds(\n",
    "    elevation_bounds[0], \n",
    "    elevation_bounds[1], \n",
    "    elevation_bounds[2], \n",
    "    elevation_bounds[3], \n",
    "    3600*2, \n",
    "    3600*2\n",
    "    )"
   ]
  },
  {
   "cell_type": "markdown",
   "metadata": {},
   "source": [
    "Set the location of the dataset to store the elevation of indianapolis:"
   ]
  },
  {
   "cell_type": "code",
   "execution_count": 12,
   "metadata": {},
   "outputs": [],
   "source": [
    "download_path = './data/indianapolis_elevation.tif'"
   ]
  },
  {
   "cell_type": "markdown",
   "metadata": {},
   "source": [
    "#### Do the big download:\n",
    "\n",
    "First, create the empty rasterio dataset to write to, based on the bounds, transform, etc. that we have determined. \n",
    "\n",
    "Then, for each tile in the four tiles that overlap indianapolis, write the data from that tile to the area covered by its bounds, in the dataset that we just created."
   ]
  },
  {
   "cell_type": "code",
   "execution_count": 13,
   "metadata": {},
   "outputs": [
    {
     "name": "stdout",
     "output_type": "stream",
     "text": [
      "Downloading elevation model to big geotiff\n"
     ]
    },
    {
     "name": "stderr",
     "output_type": "stream",
     "text": [
      "Progress: 100%|██████████| 4/4 [00:39<00:00,  9.62s/it]"
     ]
    }
   ],
   "source": [
    "big_elevation_raster = rasterio.open(download_path, \n",
    "        'w', \n",
    "        driver = \"GTiff\", \n",
    "        dtype = sample_array.dtype, \n",
    "        height = 3600*2,\n",
    "        width = 3600*2,\n",
    "        nodata = 0, \n",
    "        count = 1,\n",
    "        crs = elevation_quads.crs,\n",
    "        transform = transform_copy,\n",
    "        compress = 'DEFLATE',\n",
    "        tiled=True, \n",
    "        blockxsize=256, \n",
    "        blockysize=256, \n",
    "        BIGTIFF='YES')\n",
    "big_elevation_raster.close() ##Create the raster and close it\n",
    "with rasterio.open(download_path, 'r+') as big_elevation_raster:\n",
    "    print(\"Downloading elevation model to big geotiff\")\n",
    "    counter = tqdm(total=len(elevation_quads.index), desc = \"Progress\")\n",
    "    for i in range(len(elevation_quads.index)):\n",
    "        url = elevation_quads.iloc[i].downloadUrl  #Get URL of geotiff\n",
    "        with rasterio.open(url) as rasterio_to_write: #Open geotiff\n",
    "            bounds_to_write = elevation_quads.iloc[i].geometry.bounds\n",
    "            #get bounds of geotiff to write\n",
    "            rows, cols = rasterio.transform.rowcol(transform_copy, (bounds_to_write[0], bounds_to_write[2]), (bounds_to_write[3], bounds_to_write[1])) \n",
    "            #Get the columns and rows in big_elevation_raster from its transform and the bounds of the elevation geotiff\n",
    "            data_to_write = rasterio_to_write.read(window = Window.from_slices(slice(6, 3606), slice(6, 3606))) #read the data itself\n",
    "            writewindow = Window.from_slices(rows, cols)\n",
    "            big_elevation_raster.write(data_to_write, window = writewindow)\n",
    "        counter.update()\n",
    "    counter.refresh()\n",
    "    factors = [8,16,64]\n",
    "    big_elevation_raster.build_overviews(factors, Resampling.nearest)\n",
    "    big_elevation_raster.update_tags(ns='rio_overview', resampling='nearest')"
   ]
  },
  {
   "cell_type": "markdown",
   "metadata": {},
   "source": [
    "## And that's all!"
   ]
  }
 ],
 "metadata": {
  "kernelspec": {
   "display_name": "Python 3 (ipykernel)",
   "language": "python",
   "name": "python3"
  },
  "language_info": {
   "codemirror_mode": {
    "name": "ipython",
    "version": 3
   },
   "file_extension": ".py",
   "mimetype": "text/x-python",
   "name": "python",
   "nbconvert_exporter": "python",
   "pygments_lexer": "ipython3",
   "version": "3.9.18"
  },
  "orig_nbformat": 4,
  "vscode": {
   "interpreter": {
    "hash": "682183d1e1ea710cdea3a31eb6787b575e9eca5ed909d8154604d7d2a5c5c515"
   }
  }
 },
 "nbformat": 4,
 "nbformat_minor": 2
}

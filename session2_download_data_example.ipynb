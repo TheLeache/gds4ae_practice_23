{
 "cells": [
  {
   "attachments": {},
   "cell_type": "markdown",
   "metadata": {},
   "source": [
    "#### Example: Downloading and writing to disk a raster map\n",
    "\n"
   ]
  },
  {
   "cell_type": "code",
   "execution_count": 2,
   "metadata": {},
   "outputs": [],
   "source": [
    "import os\n",
    "import pandas as pd, geopandas as gp, numpy as np\n",
    "import rasterio\n",
    "from rasterio.windows import Window\n",
    "from rasterio.enums import Resampling\n",
    "from rasterio.warp import calculate_default_transform, reproject, Resampling\n",
    "from shapely.geometry import shape\n",
    "from rasterio.windows import from_bounds\n",
    "from tqdm import tqdm"
   ]
  },
  {
   "cell_type": "code",
   "execution_count": null,
   "metadata": {},
   "outputs": [],
   "source": [
    "'work/data/elevation_quads.geojson'"
   ]
  },
  {
   "cell_type": "code",
   "execution_count": 17,
   "metadata": {},
   "outputs": [],
   "source": [
    "quads_localfile = ('work/data/elevation_quads.geojson')\n",
    "msa_localfile = ('work/data/msa1999_boundaries.shp')"
   ]
  },
  {
   "cell_type": "code",
   "execution_count": 18,
   "metadata": {},
   "outputs": [],
   "source": [
    "elevation_quads = gp.read_file(quads_localfile)\n",
    "msa_1999 = gp.read_file(msa_localfile).to_crs(elevation_quads.crs)"
   ]
  },
  {
   "cell_type": "code",
   "execution_count": 19,
   "metadata": {},
   "outputs": [],
   "source": [
    "bounds = msa_1999.to_crs(elevation_quads.crs).dissolve().bounds.values[0]"
   ]
  },
  {
   "cell_type": "code",
   "execution_count": 20,
   "metadata": {},
   "outputs": [],
   "source": [
    "elevation_quads = elevation_quads.cx[bounds[0]:bounds[2],bounds[3]:bounds[1]] #Trim elevation quads to the extent of the conterminous USA\n",
    "truelist = []\n",
    "for i in range(len(elevation_quads.index)):\n",
    "    url = elevation_quads.iloc[i].downloadUrl\n",
    "    truelist.append(len(url) > 0)\n",
    "elevation_quads = elevation_quads[truelist] #Remove empty elements from the geodataframe"
   ]
  },
  {
   "cell_type": "code",
   "execution_count": 21,
   "metadata": {},
   "outputs": [],
   "source": [
    "sample_raster = rasterio.open(elevation_quads.iloc[3].downloadUrl)\n",
    "sample_array = sample_raster.read()[0,:,:]"
   ]
  },
  {
   "cell_type": "code",
   "execution_count": 22,
   "metadata": {},
   "outputs": [
    {
     "data": {
      "text/html": [
       "<div>\n",
       "<style scoped>\n",
       "    .dataframe tbody tr th:only-of-type {\n",
       "        vertical-align: middle;\n",
       "    }\n",
       "\n",
       "    .dataframe tbody tr th {\n",
       "        vertical-align: top;\n",
       "    }\n",
       "\n",
       "    .dataframe thead th {\n",
       "        text-align: right;\n",
       "    }\n",
       "</style>\n",
       "<table border=\"1\" class=\"dataframe\">\n",
       "  <thead>\n",
       "    <tr style=\"text-align: right;\">\n",
       "      <th></th>\n",
       "      <th>title</th>\n",
       "      <th>label</th>\n",
       "      <th>available</th>\n",
       "      <th>downloadUrl</th>\n",
       "      <th>websiteUrl</th>\n",
       "      <th>size</th>\n",
       "      <th>geometry</th>\n",
       "      <th>index_right</th>\n",
       "      <th>FIPS</th>\n",
       "      <th>Cnt_FIPS</th>\n",
       "      <th>NAME</th>\n",
       "      <th>AREA_HA</th>\n",
       "      <th>XCOORD</th>\n",
       "      <th>YCOORD</th>\n",
       "    </tr>\n",
       "  </thead>\n",
       "  <tbody>\n",
       "    <tr>\n",
       "      <th>86</th>\n",
       "      <td>USGS 1 Arc Second n40w086 20210617</td>\n",
       "      <td>n40w086</td>\n",
       "      <td>true</td>\n",
       "      <td>https://prd-tnm.s3.amazonaws.com/StagedProduct...</td>\n",
       "      <td>https://www.sciencebase.gov/catalog/item/60d2c...</td>\n",
       "      <td>50 MB</td>\n",
       "      <td>POLYGON ((-86.00000 39.00000, -85.00000 39.000...</td>\n",
       "      <td>114</td>\n",
       "      <td>3480</td>\n",
       "      <td>1</td>\n",
       "      <td>Indianapolis, IN</td>\n",
       "      <td>917267</td>\n",
       "      <td>-86.117349</td>\n",
       "      <td>39.807328</td>\n",
       "    </tr>\n",
       "    <tr>\n",
       "      <th>87</th>\n",
       "      <td>USGS 1 Arc Second n40w087 20210617</td>\n",
       "      <td>n40w087</td>\n",
       "      <td>true</td>\n",
       "      <td>https://prd-tnm.s3.amazonaws.com/StagedProduct...</td>\n",
       "      <td>https://www.sciencebase.gov/catalog/item/60d2c...</td>\n",
       "      <td>53 MB</td>\n",
       "      <td>POLYGON ((-87.00000 39.00000, -86.00000 39.000...</td>\n",
       "      <td>114</td>\n",
       "      <td>3480</td>\n",
       "      <td>1</td>\n",
       "      <td>Indianapolis, IN</td>\n",
       "      <td>917267</td>\n",
       "      <td>-86.117349</td>\n",
       "      <td>39.807328</td>\n",
       "    </tr>\n",
       "    <tr>\n",
       "      <th>104</th>\n",
       "      <td>USGS 1 Arc Second n41w086 20210617</td>\n",
       "      <td>n41w086</td>\n",
       "      <td>true</td>\n",
       "      <td>https://prd-tnm.s3.amazonaws.com/StagedProduct...</td>\n",
       "      <td>https://www.sciencebase.gov/catalog/item/60d2c...</td>\n",
       "      <td>49 MB</td>\n",
       "      <td>POLYGON ((-86.00000 40.00000, -85.00000 40.000...</td>\n",
       "      <td>114</td>\n",
       "      <td>3480</td>\n",
       "      <td>1</td>\n",
       "      <td>Indianapolis, IN</td>\n",
       "      <td>917267</td>\n",
       "      <td>-86.117349</td>\n",
       "      <td>39.807328</td>\n",
       "    </tr>\n",
       "    <tr>\n",
       "      <th>105</th>\n",
       "      <td>USGS 1 Arc Second n41w087 20210617</td>\n",
       "      <td>n41w087</td>\n",
       "      <td>true</td>\n",
       "      <td>https://prd-tnm.s3.amazonaws.com/StagedProduct...</td>\n",
       "      <td>https://www.sciencebase.gov/catalog/item/60d2c...</td>\n",
       "      <td>50 MB</td>\n",
       "      <td>POLYGON ((-87.00000 40.00000, -86.00000 40.000...</td>\n",
       "      <td>114</td>\n",
       "      <td>3480</td>\n",
       "      <td>1</td>\n",
       "      <td>Indianapolis, IN</td>\n",
       "      <td>917267</td>\n",
       "      <td>-86.117349</td>\n",
       "      <td>39.807328</td>\n",
       "    </tr>\n",
       "  </tbody>\n",
       "</table>\n",
       "</div>"
      ],
      "text/plain": [
       "                                  title    label available  \\\n",
       "86   USGS 1 Arc Second n40w086 20210617  n40w086      true   \n",
       "87   USGS 1 Arc Second n40w087 20210617  n40w087      true   \n",
       "104  USGS 1 Arc Second n41w086 20210617  n41w086      true   \n",
       "105  USGS 1 Arc Second n41w087 20210617  n41w087      true   \n",
       "\n",
       "                                           downloadUrl  \\\n",
       "86   https://prd-tnm.s3.amazonaws.com/StagedProduct...   \n",
       "87   https://prd-tnm.s3.amazonaws.com/StagedProduct...   \n",
       "104  https://prd-tnm.s3.amazonaws.com/StagedProduct...   \n",
       "105  https://prd-tnm.s3.amazonaws.com/StagedProduct...   \n",
       "\n",
       "                                            websiteUrl   size  \\\n",
       "86   https://www.sciencebase.gov/catalog/item/60d2c...  50 MB   \n",
       "87   https://www.sciencebase.gov/catalog/item/60d2c...  53 MB   \n",
       "104  https://www.sciencebase.gov/catalog/item/60d2c...  49 MB   \n",
       "105  https://www.sciencebase.gov/catalog/item/60d2c...  50 MB   \n",
       "\n",
       "                                              geometry  index_right  FIPS  \\\n",
       "86   POLYGON ((-86.00000 39.00000, -85.00000 39.000...          114  3480   \n",
       "87   POLYGON ((-87.00000 39.00000, -86.00000 39.000...          114  3480   \n",
       "104  POLYGON ((-86.00000 40.00000, -85.00000 40.000...          114  3480   \n",
       "105  POLYGON ((-87.00000 40.00000, -86.00000 40.000...          114  3480   \n",
       "\n",
       "     Cnt_FIPS              NAME  AREA_HA     XCOORD     YCOORD  \n",
       "86          1  Indianapolis, IN   917267 -86.117349  39.807328  \n",
       "87          1  Indianapolis, IN   917267 -86.117349  39.807328  \n",
       "104         1  Indianapolis, IN   917267 -86.117349  39.807328  \n",
       "105         1  Indianapolis, IN   917267 -86.117349  39.807328  "
      ]
     },
     "execution_count": 22,
     "metadata": {},
     "output_type": "execute_result"
    }
   ],
   "source": [
    "elevation_quads = elevation_quads.sjoin(msa_1999[['Indianapolis' in name for name in msa_1999.NAME]])\n",
    "elevation_quads"
   ]
  },
  {
   "cell_type": "code",
   "execution_count": 23,
   "metadata": {},
   "outputs": [
    {
     "data": {
      "text/plain": [
       "array([-87.,  39., -85.,  41.])"
      ]
     },
     "execution_count": 23,
     "metadata": {},
     "output_type": "execute_result"
    }
   ],
   "source": [
    "elevation_bounds = elevation_quads.dissolve().bounds.values[0]\n",
    "elevation_bounds"
   ]
  },
  {
   "cell_type": "markdown",
   "metadata": {},
   "source": [
    "\n",
    "\n",
    "sample_array.shape\n",
    "\n",
    "(3612, 3612)"
   ]
  },
  {
   "cell_type": "code",
   "execution_count": 24,
   "metadata": {},
   "outputs": [],
   "source": [
    "transform_copy = rasterio.transform.from_bounds(elevation_bounds[0], elevation_bounds[1], elevation_bounds[2], elevation_bounds[3], 3600*2, 3600*2)"
   ]
  },
  {
   "cell_type": "code",
   "execution_count": 25,
   "metadata": {},
   "outputs": [],
   "source": [
    "download_path = 'work/data/indianapolis_elevation.tif'"
   ]
  },
  {
   "cell_type": "markdown",
   "metadata": {},
   "source": [
    "Do the big download:"
   ]
  },
  {
   "cell_type": "code",
   "execution_count": 11,
   "metadata": {},
   "outputs": [
    {
     "name": "stdout",
     "output_type": "stream",
     "text": [
      "Downloading elevation model to big geotiff\n"
     ]
    },
    {
     "name": "stderr",
     "output_type": "stream",
     "text": [
      "Progress: 100%|██████████| 4/4 [01:01<00:00, 14.80s/it]"
     ]
    }
   ],
   "source": [
    "big_elevation_raster = rasterio.open(download_path, \n",
    "        'w', \n",
    "        driver = \"GTiff\", \n",
    "        dtype = sample_array.dtype, \n",
    "        height = 3600*2,\n",
    "        width = 3600*2,\n",
    "        nodata = 0, \n",
    "        count = 1,\n",
    "        crs = elevation_quads.crs,\n",
    "        transform = transform_copy,\n",
    "        compress = 'DEFLATE',\n",
    "        tiled=True, \n",
    "        blockxsize=256, \n",
    "        blockysize=256, \n",
    "        BIGTIFF='YES')\n",
    "big_elevation_raster.close() ##Create the raster and close it\n",
    "with rasterio.open(download_path, 'r+') as big_elevation_raster:\n",
    "    print(\"Downloading elevation model to big geotiff\")\n",
    "    counter = tqdm(total=len(elevation_quads.index), desc = \"Progress\")\n",
    "    for i in range(len(elevation_quads.index)):\n",
    "        url = elevation_quads.iloc[i].downloadUrl  #Get URL of geotiff\n",
    "        with rasterio.open(url) as rasterio_to_write: #Open geotiff\n",
    "            bounds_to_write = elevation_quads.iloc[i].geometry.bounds\n",
    "            #get bounds of geotiff to write\n",
    "            rows, cols = rasterio.transform.rowcol(transform_copy, (bounds_to_write[0], bounds_to_write[2]), (bounds_to_write[3], bounds_to_write[1])) \n",
    "            #Get the columns and rows in big_elevation_raster from its transform and the bounds of the elevation geotiff\n",
    "            data_to_write = rasterio_to_write.read(window = Window.from_slices(slice(6, 3606), slice(6, 3606))) #read the data itself\n",
    "            writewindow = Window.from_slices(rows, cols)\n",
    "            big_elevation_raster.write(data_to_write, window = writewindow)\n",
    "        counter.update()\n",
    "    counter.refresh()\n",
    "    factors = [8,16,64]\n",
    "    big_elevation_raster.build_overviews(factors, Resampling.nearest)\n",
    "    big_elevation_raster.update_tags(ns='rio_overview', resampling='nearest')"
   ]
  },
  {
   "cell_type": "code",
   "execution_count": 12,
   "metadata": {},
   "outputs": [],
   "source": [
    "with rasterio.open(download_path, 'r+') as elevation:\n",
    "    factors = [8,16,64]\n",
    "    elevation.build_overviews(factors, Resampling.nearest)\n",
    "    elevation.update_tags(ns='rio_overview', resampling='nearest')"
   ]
  }
 ],
 "metadata": {
  "kernelspec": {
   "display_name": "Python 3 (ipykernel)",
   "language": "python",
   "name": "python3"
  },
  "language_info": {
   "codemirror_mode": {
    "name": "ipython",
    "version": 3
   },
   "file_extension": ".py",
   "mimetype": "text/x-python",
   "name": "python",
   "nbconvert_exporter": "python",
   "pygments_lexer": "ipython3",
   "version": "3.9.12"
  },
  "orig_nbformat": 4,
  "vscode": {
   "interpreter": {
    "hash": "affa99c05f0e60c4024f50a0ff8eaae5133bbd89e1a9c4f26899a878689adda1"
   }
  }
 },
 "nbformat": 4,
 "nbformat_minor": 2
}

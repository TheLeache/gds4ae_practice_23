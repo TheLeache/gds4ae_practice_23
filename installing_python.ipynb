{
 "cells": [
  {
   "cell_type": "markdown",
   "metadata": {},
   "source": [
    "# Instructions for installing the GDS environment\n",
    "\n",
    "### Introduction\n",
    "\n",
    "*Jupyter* = open-source software project developping services for interactive computing across different programming languages (core: **Ju**lia, **Py**thon, **R**)\n",
    "\n",
    "*Jupyter Notebook* = web-based application you can run on your browser to create \"notebooks\" - single files that contain everything you need in a data workflow (more on this later)\n",
    "\n",
    "[*JupyterLab*](https://jupyterlab.readthedocs.io/en/stable/) (what we are using here) = evolution of Jupyter Notebook"
   ]
  },
  {
   "cell_type": "markdown",
   "metadata": {},
   "source": [
    "### Set-up\n",
    "\n",
    "These installation instructions are based on the  [installation instructions](https://gdsl-ul.github.io/soft_install/) by the Geographic Data Science Lab at the University of Liverpool. These are the instructions to install `gds_env`, an Anaconda Python environment designed for geographic data science which is curated by Dani Arribas-Bel.\n",
    "\n",
    "If, for whatever reason, you did not manage to install everything or something is not working during the class, you can use [Binder](https://darribas.org/gds4ae/content/pages/infrastructure.html) to follow the lecture. Note that there is no way to save any changes you make to your local machine using Binder.\n",
    "\n",
    "For this course, it is recommended to install the GDS environment in a virtual container on **Docker**. Basically, what that means is that you don't need to install Python or any libraries on your local machine. It ensures that everyone can run the code in the same environment.\n",
    "\n",
    "Still, the environment can be installed locally on your machine, something which is necessary in some versions of Windows, and which might make starting up Python a bit more frictionless. For the sake of completeness, I provide instructions for both methods."
   ]
  },
  {
   "cell_type": "markdown",
   "metadata": {},
   "source": [
    "### Installation through Docker\n",
    "\n",
    "You can do the docker installation on machines running recent versions of MacOS, compatible distributions of Linux, and Windows machines running Windows 10 or later, using WSL [(installation instructions)](https://learn.microsoft.com/en-us/windows/wsl/install). \n",
    "\n",
    "To install Docker, simply download the *Docker Desktop* executable from the [official webpage](https://www.docker.com/products/docker-desktop/) and install it in your computer. All the necessary instructions are [in the official guide](https://docs.docker.com/desktop/).\n",
    "\n",
    "Once Docker is installed in your machine, you can run Docker commands from the terminal application of choice in your machine (`Terminal` in MacOS and Linux, `Powershell` in Windows).\n",
    "\n",
    "In order to install the GDS environment, you should type the following command:\n",
    "\n",
    "`docker pull darribas/gds:10.0`\n",
    "\n",
    "This will take a while since it has do download large amounts of data. Once it is complete, you can check the success of the installation by typing the instruction \n",
    "\n",
    "`docker image ls`\n",
    "\n",
    "which prints a list of all installed containers (GDS 9.0 should appear in this list).\n",
    "\n"
   ]
  },
  {
   "cell_type": "markdown",
   "metadata": {},
   "source": [
    "### Native installation through Anaconda\n",
    "\n",
    "The alternative way of installing the GDS environment is through a native Anaconda installation. \n",
    "\n",
    "In order to follow this method, you should install the appropriate Anaconda version for your system from the [official webpage](https://www.anaconda.com/download). Once this is done, you should download the scripts from the [gds repository in GitHub](https://github.com/darribas/gds_env) that create the appropriate installation for your system. \n",
    "\n",
    "#### For Windows installations:\n",
    "You should download [gds_py_win_installer.bat](https://github.com/darribas/gds_env/blob/v10.0/gds_py/gds_py_win_installer.bat). You should open \"Anaconda Prommpt\" and paste the contents of `gds_py_win_installer.bat` in the command line of Anaconda Prompt. This will create the environment as a local Anaconda environment, which will take a while. \n",
    "\n",
    "#### For MacOS installations:\n",
    "In MacOS you can make use of the explicit file, in order to do so, you should download the files for your MacOS computer, depending on its CPU architecture. For Intel MacBooks, [gds_py_explicit_macos-latest.txt](https://github.com/darribas/gds_env/blob/v10.0/gds_py/gds_py_explicit_macos-latest.txt), while for ARM MacBooks (Those using M1/M2 family chips) it is [gds_py_explicit_macos-arm.txt](https://github.com/darribas/gds_env/blob/v10.0/gds_py/gds_py_explicit_macos-arm.txt). \n",
    "\n",
    "You should download this file to a location that you keep track of, and copy the path of the `explicit file.txt`, `path_to_explicit_file`, then do the following:\n",
    "\n",
    "Open the Terminal, and type:\n",
    "\n",
    "`conda create --name gds --file path_to_explicit_file`\n",
    "\n",
    "It is possible that saving the explicit file in a `.txt` format gives problems, in previous years changing the file extension to `.rtf` (A different text format) solved the issue. \n",
    "\n",
    "\n",
    "\n"
   ]
  },
  {
   "cell_type": "markdown",
   "metadata": {},
   "source": [
    "### For Linux installations:\n",
    "\n",
    "For a native Anaconda installation of the GDS environment in Linux, you can use the same method as for MacOS, using the [gds_py_explicit_ubuntu-latest.txt](https://github.com/darribas/gds_env/blob/v10.0/gds_py/gds_py_explicit_ubuntu-latest.txt) file. The caveat of the `.txt` and `.rtf` extensions may or may not apply, since this has not been encountered by me in previous years.  "
   ]
  }
 ],
 "metadata": {
  "kernelspec": {
   "display_name": "gds",
   "language": "python",
   "name": "python3"
  },
  "language_info": {
   "codemirror_mode": {
    "name": "ipython",
    "version": 3
   },
   "file_extension": ".py",
   "mimetype": "text/x-python",
   "name": "python",
   "nbconvert_exporter": "python",
   "pygments_lexer": "ipython3",
   "version": "3.10.12"
  },
  "orig_nbformat": 4
 },
 "nbformat": 4,
 "nbformat_minor": 2
}

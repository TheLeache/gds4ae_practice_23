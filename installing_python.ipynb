{
 "cells": [
  {
   "cell_type": "markdown",
   "metadata": {},
   "source": [
    "# Instructions for installing the GDS environment\n",
    "\n",
    "### Key concepts\n",
    "\n",
    "*Python*: An open-source interpreted programming language that is extremely popular for data science and geography\n",
    "\n",
    "*Module*: An implementation of functionality that doesn't exist in basic Python, similar to R's packages. For instance, `numpy` implements fast numerical and array computations.\n",
    "\n",
    "*Dependency:* Often, modules depend on other modules. For instance, `pandas` implements dataframes in Python, and depends on `numpy`. `geopandas` adds a geographic layer to `pandas`, so it depends on `pandas` and itself on `numpy`.\n",
    "\n",
    "*Environment* : A Python installation with all the necessary modules to accomplish a desired functionality, where specific versions of each depndency are chosen to make everything compatible\n",
    "\n",
    "*Conda*: An open-source environment manager for Python. Does the work in the background to install environments where all dependencies are compatible between them\n",
    "\n",
    "*Anaconda*: the most popular implementation of Conda\n",
    "\n",
    "*Jupyter* = open-source software project developping services for interactive computing across different programming languages (core: **Ju**lia, **Py**thon, **R**)\n",
    "\n",
    "*Jupyter Notebook* = web-based application you can run on your browser or in VSCode to create \"notebooks\" - single files that contain everything you need in a data workflow (more on this later)\n",
    "\n",
    "*VSCode:* the most popular code editor. We will be using it to work on our notebooks and run the code in Anaconda Python.\n",
    "\n",
    "[*JupyterLab*](https://jupyterlab.readthedocs.io/en/stable/) (what we are using here) = evolution of Jupyter Notebook"
   ]
  },
  {
   "cell_type": "markdown",
   "metadata": {},
   "source": [
    "### Set-up\n",
    "\n",
    "These installation instructions are based on the  [installation instructions](https://gdsl-ul.github.io/soft_install/) by the Geographic Data Science Lab at the University of Liverpool. These are the instructions to install `gds_env`, an Anaconda Python environment designed for geographic data science which is curated by Dani Arribas-Bel.\n",
    "\n",
    "We will install this environment natively on our machine using Anaconda and the .yaml files provided by Dani Arribas Bel in his github."
   ]
  },
  {
   "cell_type": "markdown",
   "metadata": {},
   "source": [
    "## Native installation through Anaconda\n",
    "\n",
    "We will do a native installation of our environment using Anaconda. The first step is naturally to install Anaconda. \n",
    "\n",
    "You should install the appropriate Anaconda version for your system from the [official webpage](https://www.anaconda.com/download). Once this is done, we will use the `.yaml` files in the [gds repository in GitHub](https://github.com/darribas/gds_env) that create the appropriate installation for your system. \n",
    "\n",
    "### .yaml files\n",
    "\n",
    "These files contain the instructions for Anaconda to create your environment. It's basically a list of the modules you want. If it's a list, Conda tries to choose versions that are compatible with each other. It usually succeeds. If you want to replicate your exact environment in another computer, you can export an \"explicit\" .yaml file that states the exact versions of everything, but this is operating-system specific. \n",
    "\n",
    "#### How to use the .yaml file:\n",
    "\n",
    "If you have a .yaml file located at `path_to_explicit_file`, then you simply have to open the Anaconda Terminal and write: \n",
    "\n",
    "`conda create --name gds --file path_to_explicit_file`\n",
    "\n",
    "It is possible that saving the explicit file in a `.txt` format gives problems in Mac and Ubuntu, in previous years changing the file extension to `.rtf` (A different text format) solved the issue.\n",
    "\n",
    "### The .yaml file for our installation\n",
    "\n",
    "Once again, we will be using the .yaml files provided by Dani Arribas-Bel for his GDS environment. We will be using explicit files, so they are different for each operating system. \n",
    "\n",
    "#### For Windows installations:\n",
    "\n",
    "https://raw.githubusercontent.com/darribas/gds_env/refs/heads/master/env/py/gds_py_explicit_windows-latest.txt\n",
    "\n",
    "For windows, the Anaconda Terminal is the Anaconda Powershell Prompt\n",
    "\n",
    "#### For MacOS (M1 processor or later):\n",
    "\n",
    "https://raw.githubusercontent.com/darribas/gds_env/refs/heads/master/env/py/gds_py_explicit_macos-arm.txt\n",
    "\n",
    "For MacOS, the Anaconda terminal is the system terminal \n",
    "\n",
    "#### For MacOS (Intel processor):\n",
    "\n",
    "https://raw.githubusercontent.com/darribas/gds_env/refs/heads/master/env/py/gds_py_explicit_macos-latest.txt\n",
    "\n",
    "For MacOS, the Anaconda terminal is the system terminal \n",
    "\n",
    "#### For Ubuntu\n",
    "\n",
    "https://github.com/darribas/gds_env/blob/master/env/py/gds_py_explicit_ubuntu-latest.txt\n",
    "\n",
    "For Ubuntu, the Anaconda terminal is the system terminal \n",
    "\n",
    "### Installing GDS:\n",
    "\n",
    "You can run the above line, putting as `path_to_explicit_file` the corresponding URL. Otherwise, you can save the content in that URL to a text file locally in your machine, and direct the Anaconda terminal to that path in your machine.\n",
    "\n",
    "Imagine that I am using windows and I save that file to my downloads folder. Then, I would write:\n",
    "\n",
    "\n",
    "`conda create --name gds --file C:/Users/a-sanc34/Downloads/gds_explicit_file.txt`\n",
    "\n",
    "\n"
   ]
  }
 ],
 "metadata": {
  "kernelspec": {
   "display_name": "gds",
   "language": "python",
   "name": "python3"
  },
  "language_info": {
   "codemirror_mode": {
    "name": "ipython",
    "version": 3
   },
   "file_extension": ".py",
   "mimetype": "text/x-python",
   "name": "python",
   "nbconvert_exporter": "python",
   "pygments_lexer": "ipython3",
   "version": "3.10.12"
  },
  "orig_nbformat": 4
 },
 "nbformat": 4,
 "nbformat_minor": 2
}

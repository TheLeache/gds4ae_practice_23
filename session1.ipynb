{
 "cells": [
  {
   "attachments": {},
   "cell_type": "markdown",
   "id": "cognitive-cameroon",
   "metadata": {},
   "source": [
    "# Practice Session I\n",
    "\n",
    "My e-mail: <alvaro.sanchez@cemfi.edu.es>\n",
    "\n",
    "## 1. JupyterLab\n",
    "\n",
    "### Introduction\n",
    "\n",
    "*Jupyter* = open-source software project developping services for interactive computing across different programming languages (core: **Ju**lia, **Py**thon, **R**)\n",
    "\n",
    "*Jupyter Notebook* = web-based application you can run on your browser to create \"notebooks\" - single files that contain everything you need in a data workflow (more on this later)\n",
    "\n",
    "[*JupyterLab*](https://jupyterlab.readthedocs.io/en/stable/) (what we are using here) = evolution of Jupyter Notebook\n",
    "\n",
    "### Set-up\n",
    "\n",
    "Please make sure you have followed the [installation instructions](https://gdsl-ul.github.io/soft_install/). Note that you should install gds version 8.0, not 6.1, that's a typo in the webpage.\n",
    "\n",
    "If, for whatever reason, you did not manage to install everything or something is not working during the class, you can use [Binder](https://darribas.org/gds4ae/content/pages/infrastructure.html) to follow the lecture. Note that there is no way to save any changes you make to your local machine using Binder.\n",
    "\n",
    "For this course, we are using a virtual container on **Docker**. Basically, what that means is that you don't need to install Python or any libraries on your local machine. It ensures that everyone can run the code in the same environment.\n",
    "\n",
    "### To run Python on JypyterLab through Docker:\n",
    "\n",
    "1. Open the terminal of your computer: Terminal (for Mac) or PowerShell (for windows) and choose the base folder where you want to initialize Jupyter Notebook. For example, imagine I have the notebooks I want to run on Google Drive (Drive letter G:) in a folder called `stuff_for_gds4ae`:\n",
    "Then, I would run:\n",
    "\n",
    "\n",
    "`G:`\n",
    "\n",
    "and then:\n",
    "\n",
    "`cd stuff_for_gds4ae`\n",
    "\n",
    "This will define which is the `work` directory that will come up later. If you have uglier folder systems, you should put them between brackets, for instance, in my case I have to write:\n",
    "\n",
    "`H:`\n",
    "\n",
    "`cd 'My Drive\\CEMFI\\2022_PhD\\gds4ae_practice_23'`\n",
    "\n",
    "2. After this, we are ready to run docker. Copy the following command in your Terminal (for Mac) or PowerShell (for Windows):\n",
    "\n",
    "`docker run --rm -ti -p 8888:8888 -v ${PWD}:/home/jovyan/work darribas/gds:8.0`\n",
    "\n",
    "![docker_run1.jpg](.jpgs/docker_run.jpg)\n",
    "\n",
    "2. Open `localhost:8888` in your browser and paste the token shown in the output text of the terminal.\n",
    "\n",
    "![docker_run1.jpg](.jpgs/docker_run_two.jpg)\n",
    "\n",
    "Don't close either docker nor the terminal while your session is running. If you do, it will automatically expire, kernels are shut down and all unsaved changes will be lost.\n",
    "\n",
    "### Running Jupyter Lab if you installed it natively in Anaconda\n",
    "\n",
    "If you are on Windows Home and you cannot use WSL and Docker, you must have installed the `gds` environment natively. Don't worry, most likely you will have no problems (It's a tradeoff between compatibility and convenience), but for you the procedure is a bit different:\n",
    "\n",
    "1. Open the Anaconda terminal (Anaconda Powershell Prompt in Windows)\n",
    "\n",
    "![anaconda_terminal.jpg](.jpgs/anaconda_terminal.jpg)\n",
    "\n",
    "2. Type: \n",
    "\n",
    "`conda activate gds`\n",
    "\n",
    "3. As before, choose your drive and directory:\n",
    "\n",
    "`G:`\n",
    "\n",
    "`cd stuff_for_gds4ae`\n",
    "\n",
    "4. Type:\n",
    "\n",
    "`jupyter notebook`\n",
    "\n",
    "And you should get a link to paste into your browser\n"
   ]
  },
  {
   "attachments": {},
   "cell_type": "markdown",
   "id": "f5ad0510",
   "metadata": {},
   "source": [
    "\n",
    "### Using Jupyter Notebooks with Visual Studio Code\n",
    "\n",
    "Jupyter notebooks run on a browser interface by default. This is alright, but I'm not a big fan. Thankfully, you can run Jupyter Notebooks in Visual Studio Code, the most popular IDE today, with a few extra steps, and you will get a lot of convenient features like code highlighting, autocompletion, help when you hover the cursor over function calls, and more.\n",
    "\n",
    "You can install Visual Studio Code from [its website](https://code.visualstudio.com/). Then, you should install the Jupyter Extension from the Extensions marketplace:\n",
    "\n",
    "![jupyter_extension.jpg](.jpgs/jupyter_extension.jpg)\n",
    "\n",
    "You can use VSCode to work on notebooks both from a \"remote\" session (i.e. if you installed the GDS environment through Docker) or from a local session (If you had to do a local Anaconda installation)\n",
    "\n",
    "1. First, it is useful to choose your directory as your folder in VSCode when you start a session. You should hit  `File -> Open Folder` and from there browse to the base directory where your project is located so that you can open your source files from within VSCode. You will get something that looks like this:\n",
    "\n",
    "![folder.jpg](.jpgs/folder.jpg)\n",
    "\n",
    "\n",
    "2. Once this is done, we have two paths:\n",
    "\n",
    "### If you are using the Docker installation\n",
    "\n",
    "1. Follow the steps of starting a Jupyter Notebook session up to the point where you get the link that you are supposed to paste in your browser. \n",
    "\n",
    "2. Press  `Ctrl + Shift + P` in VSCode, and in the search bar, type and select: `Jupyter: Specify Jupyter Server for Connections`\n",
    "\n",
    "    1. ![jupyter_search.jpg](.jpgs/jupyter_search.JPG)\n",
    "\n",
    "    2. ![existing_url.jpg](.jpgs/existing_url.JPG)\n",
    "\n",
    "    3. ![URL_pasted.JPG!](URL_pasted.JPG)\n",
    "\n",
    "3. Open one of your notebooks in the directory from VSCode, now, in the top-right corner, you should have an option to choose a Jupyter Kernel:\n",
    "\n",
    "    1. ![option_choose_kernel.jpg](.jpgs/option_choose_kernel.JPG)\n",
    "\n",
    "    2. Once you click on that, you will get a list of available Jupyter kernels. Since you have pasted the URL for your remote kernel in the right place, it should appear on the list:\n",
    "\n",
    "    ![remote_jupyter_kernel.jpg](.jpgs/remote_jupyter_kernel.JPG)\n",
    "\n",
    "4. Once all of this is done, you are ready to go, your notebook will execute in the environment that you installed in Docker.\n",
    "\n",
    "### If you had to do a native Anaconda installation\n",
    "\n",
    "In this case, things are easier: When you open the notebook, on the top-right corner, you should have `gds` in your list of available Jupyter servers, without the need to intialize the Jupyter kernel. Alternatively, you can initialize the Jupyter kernel from the Anaconda prompt, and use its URL in VSCode as if it were a remote Jupyter kernel. "
   ]
  },
  {
   "attachments": {},
   "cell_type": "markdown",
   "id": "banner-security",
   "metadata": {},
   "source": [
    "### JupyterLab Interface Tour\n",
    "The JupyterLab Interface provides flexible building blocks for interactive computing.\n",
    "\n",
    "The main interface includes a main work area, a side bar on the left and a menu bar up top.\n",
    "\n",
    "![interface.jpg](.jpgs/interface.jpg)"
   ]
  },
  {
   "cell_type": "markdown",
   "id": "aquatic-junior",
   "metadata": {},
   "source": [
    "#### Main work area\n",
    "\n",
    "This is where different kinds of documents and files are displayed in tabs (default) or panels. On start-up, you always see the **launcher tab** where you can select the type of file you want to create, depending on the number of kernels installed.\n",
    "\n",
    "> Kernel = separate process that runs your code in different programming languages\n",
    "\n",
    "You can always open a new launcher tab by clicking `File>New Launcher` in the menu bar or the blue \"+\" button top left.\n",
    "\n",
    "These are the formats you can open from the launcher:\n",
    "\n",
    "- **Notebook**: main document we will be working with (more on this later)\n",
    "- **Console**: allows to run code interactively, execute commands with `Shift + Enter`\n",
    "- **Terminal**: \n",
    "    - provides full support of system shells/PowerShell\n",
    "    - runs on same system as Jupyter server (here: virtual container)\n",
    "    - type `pip list` to see packages installed\n",
    "    - install and update other packages as needed\n",
    "- Text editor\n",
    "- Markdown file\n",
    "- **Contextual help**\n",
    "    - does not show anything when launched but whenever you type or double click on an object or command in the notebook, it will interactively show you the description or help file, respectively\n",
    "    - another way to directly display the documentation is adding a `?` behind a command\n",
    "\n",
    "In the main work area you can also open any kind of media (e.g. images, pdf, html, tex) and raw data files in CSV format.\n",
    "\n",
    "Importantly, you can customize your workspace in any way you want: every tab can be rearranged and resized. Just **drag and drop** tabs to split windows in different ways. \n",
    "\n",
    "You can also simultaneously view the same file or even just the output of a single cell in an extra window if you want to keep it for reference by right clicking on the tab or cell in question and open `New View`."
   ]
  },
  {
   "cell_type": "markdown",
   "id": "federal-witness",
   "metadata": {},
   "source": [
    "#### Side panel\n",
    "\n",
    "Can be toggled off if you need more space by just clicking on the active tab. \n",
    "\n",
    "As you can see there are several tabs:\n",
    "- **File Browser**\n",
    "    - browse and open files\n",
    "    - files you create always shop up in the current folder you are in, which is then set as the working directory of that file\n",
    "    - type `%pwd` to see what directory you are in\n",
    "    - `\\home\\jovyan` is a workspace that only exists within the docker image\n",
    "    - always save your files inside the `work` directory\n",
    "    - if you have created a notebook outside and later put it in aother folder, you can adjust the directory by typing `%cd \"/home/jovyan/work/<your path on local machine>` (see top line in launcher)\n",
    "- Running Terminals and Kernels: check running sessions\n",
    "- Table of Contents: shows markdown structure of notebooks\n",
    "- Extension Manager"
   ]
  },
  {
   "cell_type": "markdown",
   "id": "linear-vegetarian",
   "metadata": {},
   "source": [
    "#### Menu bar\n",
    "\n",
    "Top level menu with several options\n",
    "- `File` : create, save and export files\n",
    "    - notebooks can be converted to a number of open standard output formats (e.g. HTML, LaTeX, PDF) through `Export Notebook As` \n",
    "- `Kernel`: restart kernel if necessary\n",
    "- `Settings`: change keystroke to execute commands, font size etc."
   ]
  },
  {
   "cell_type": "markdown",
   "id": "associate-chocolate",
   "metadata": {},
   "source": [
    "### Jupyter Notebooks\n",
    "\n",
    "Main vehicle we will use to communicate content of the course and create code. Documents that combine live runnable code with narrative text and rich output (e.g. interactive visualizations).\n",
    "\n",
    "> Notebooks have a \".ipynb\" extension.\n",
    "\n",
    "Notebooks are structured as an ordered list of **cells**, which keep your data, thoughts and code in little containers.\n",
    "\n",
    "A few tips on how to handle, create and manipulate cells, including the most important **keyboard short-cuts**:\n",
    "- active/selected cells have a blue bar next to them\n",
    "- switch from Edit Mode to Command Mode by pressing `Esc`\n",
    "- switch from Command Mode to Edit Mode by pressing `Enter`\n",
    "- use arrow keys to navigate in Command Mode\n",
    "- `b` create below, `a` create above\n",
    "- `c` copy, `v` paste, `x` cut\n",
    "- `dd` (pressing d twice) delete\n",
    "- `z` undo, `Shift + z` redo\n",
    "- `m` change cell type to Markdown, `y` change to code\n",
    "- run cells by hitting `Control + Enter` or `Shift + Enter`\n",
    "- select multiple cells with `Shift + J`\n",
    "\n",
    "There are two types of cells: Code and Markdown.\n",
    "\n",
    "#### Code cells\n",
    "\n",
    "The language used for code is that of the kernel: Python 3. When running a code cell, JupyterLab takes the code, sends it to the Pytho interpreter, who is sending back the result and prints the **output** directly below the cell.\n",
    "\n",
    "The square brackets next to the cell, e.g. `[1]`, indicates the **execution order** of your code. \n",
    "\n",
    "> The notebook is running on the same kernel, so whatever you code in a single cell is true for the whole notebook *according to this order*.\n",
    "\n",
    "You can collapse the output by clickin on the blue bar next to it. `Shift + L` toggles code line numbers within cells.\n",
    "\n",
    "#### Markdown cells\n",
    "\n",
    "When running a Markdown cell, the text will be rendered as stylized text using standard Markdown syntax. This is a really easy way to format text.\n",
    "\n",
    "Basic syntax (more [here](https://www.markdownguide.org/basic-syntax/)):\n",
    "- titles and subtitles with `#`\n",
    "- bold `** text **`, italic `* text*`\n",
    "- ordered list using `1.`, `2.`, `3.` etc.\n",
    "- unordered lists using `-`\n",
    "- horizontal rule `---`\n",
    "- \\`inline code`\n",
    "- equations using latex syntax `$ math $`, e.g. $x^2$\n",
    "- add `\\` to avoid formatting\n",
    "\n",
    "#### Save and Close\n",
    "\n",
    "You can save your notebook with `Control + S`. This will save code and output but if you shut down the kernel anything you create on-the-fly (e.g. defining variables) will not be readily available if you open the notebook again, unless you run the respective cells. "
   ]
  },
  {
   "cell_type": "markdown",
   "id": "natural-clark",
   "metadata": {},
   "source": [
    "## 2. Python Programming Essentials\n",
    "\n",
    "We are now ready to start learning the Python language itself. \n",
    "\n",
    "### Basic Syntax"
   ]
  },
  {
   "cell_type": "code",
   "execution_count": 62,
   "id": "elegant-distinction",
   "metadata": {},
   "outputs": [
    {
     "name": "stdout",
     "output_type": "stream",
     "text": [
      "hola mundo\n"
     ]
    }
   ],
   "source": [
    "# comments start with #\n",
    "x = 'hola mundo' # use '' or \"\" for strings\n",
    "print(x)"
   ]
  },
  {
   "cell_type": "markdown",
   "id": "entire-booking",
   "metadata": {},
   "source": [
    "#### Primitive Data Types\n",
    "\n",
    "Variables in Python don't need to be declared, just used for the first time, and can change their type when overwritten."
   ]
  },
  {
   "cell_type": "code",
   "execution_count": 63,
   "id": "inappropriate-economics",
   "metadata": {},
   "outputs": [
    {
     "name": "stdout",
     "output_type": "stream",
     "text": [
      "<class 'int'>\n",
      "<class 'float'>\n",
      "<class 'bool'>\n",
      "False\n"
     ]
    }
   ],
   "source": [
    "x = 3\n",
    "print(type(x))\n",
    "y = 2.5\n",
    "print(type(y))\n",
    "v = 100 < 10\n",
    "print(type(v))\n",
    "print(v)"
   ]
  },
  {
   "cell_type": "code",
   "execution_count": 64,
   "id": "medieval-castle",
   "metadata": {},
   "outputs": [
    {
     "data": {
      "text/plain": [
       "1"
      ]
     },
     "execution_count": 64,
     "metadata": {},
     "output_type": "execute_result"
    }
   ],
   "source": [
    "v1 = False\n",
    "v2 = True\n",
    "v1 + v2 # boolean arithmetic"
   ]
  },
  {
   "cell_type": "markdown",
   "id": "decent-extent",
   "metadata": {},
   "source": [
    "#### Containers\n",
    "\n",
    "Collection of objects\n",
    "\n",
    "##### Lists and Tuples"
   ]
  },
  {
   "cell_type": "code",
   "execution_count": 65,
   "id": "infrared-workshop",
   "metadata": {},
   "outputs": [
    {
     "data": {
      "text/plain": [
       "[]"
      ]
     },
     "execution_count": 65,
     "metadata": {},
     "output_type": "execute_result"
    }
   ],
   "source": [
    "ϵ = [] # creates an empty list, type \\epsilon + tab to automatically get mathematical symbol\n",
    "ϵ"
   ]
  },
  {
   "cell_type": "code",
   "execution_count": 66,
   "id": "retired-airplane",
   "metadata": {},
   "outputs": [
    {
     "data": {
      "text/plain": [
       "list"
      ]
     },
     "execution_count": 66,
     "metadata": {},
     "output_type": "execute_result"
    }
   ],
   "source": [
    "x = [10,'foo',False] # can combine different data types\n",
    "type(x)"
   ]
  },
  {
   "cell_type": "code",
   "execution_count": 67,
   "id": "seasonal-julian",
   "metadata": {},
   "outputs": [
    {
     "data": {
      "text/plain": [
       "[10, 'foo', False, 2.5]"
      ]
     },
     "execution_count": 67,
     "metadata": {},
     "output_type": "execute_result"
    }
   ],
   "source": [
    "x.append(2.5) # adding a value to a list\n",
    "x"
   ]
  },
  {
   "cell_type": "code",
   "execution_count": 68,
   "id": "efade3e3",
   "metadata": {},
   "outputs": [
    {
     "name": "stdout",
     "output_type": "stream",
     "text": [
      "10\n",
      "foo\n",
      "False\n",
      "2.5\n"
     ]
    }
   ],
   "source": [
    "for element in x:\n",
    "    print(element)"
   ]
  },
  {
   "cell_type": "markdown",
   "id": "amazing-testament",
   "metadata": {},
   "source": [
    "> Note: Lists in Python are **zero-based**, so the first element is referenced by `x[0]`"
   ]
  },
  {
   "cell_type": "code",
   "execution_count": 69,
   "id": "limited-cliff",
   "metadata": {},
   "outputs": [
    {
     "data": {
      "text/plain": [
       "10"
      ]
     },
     "execution_count": 69,
     "metadata": {},
     "output_type": "execute_result"
    }
   ],
   "source": [
    "x[0]"
   ]
  },
  {
   "cell_type": "markdown",
   "id": "optional-universe",
   "metadata": {},
   "source": [
    "Lists are \"mutable\" which means they can still be altered after creation"
   ]
  },
  {
   "cell_type": "code",
   "execution_count": 70,
   "id": "parliamentary-private",
   "metadata": {},
   "outputs": [
    {
     "data": {
      "text/plain": [
       "[10, 2]"
      ]
     },
     "execution_count": 70,
     "metadata": {},
     "output_type": "execute_result"
    }
   ],
   "source": [
    "y = [1,2]\n",
    "y[0] = 10 # assigning new value using index\n",
    "y"
   ]
  },
  {
   "cell_type": "markdown",
   "id": "several-crisis",
   "metadata": {},
   "source": [
    "Tuples are \"immutable\" lists, i.e. the object cannot be changed."
   ]
  },
  {
   "cell_type": "code",
   "execution_count": 71,
   "id": "addressed-technician",
   "metadata": {
    "tags": []
   },
   "outputs": [],
   "source": [
    "y = (1,2)"
   ]
  },
  {
   "attachments": {},
   "cell_type": "markdown",
   "id": "697bd9a5",
   "metadata": {},
   "source": [
    "```python\n",
    "y[0] = 10\n",
    "---------------------------------------------------------------------------\n",
    "TypeError                                 Traceback (most recent call last)\n",
    "h:\\My Drive\\CEMFI\\2022_PhD\\gds4ae_practice_23\\session1.ipynb Cell 23 in <cell line: 1>()\n",
    "----> 1 y[0] = 10\n",
    "\n",
    "TypeError: 'tuple' object does not support item assignment\n",
    "```"
   ]
  },
  {
   "cell_type": "markdown",
   "id": "faced-conditions",
   "metadata": {},
   "source": [
    "Both lists and tuples can be \"unpacked\""
   ]
  },
  {
   "cell_type": "code",
   "execution_count": 72,
   "id": "human-match",
   "metadata": {
    "tags": []
   },
   "outputs": [
    {
     "data": {
      "text/plain": [
       "20"
      ]
     },
     "execution_count": 72,
     "metadata": {},
     "output_type": "execute_result"
    }
   ],
   "source": [
    "integers = (10, 20, 30)\n",
    "x, y, z = integers\n",
    "y"
   ]
  },
  {
   "cell_type": "markdown",
   "id": "inside-fourth",
   "metadata": {},
   "source": [
    "To access multiple elements of a list or tuple, you can use Python's **slice notation**."
   ]
  },
  {
   "cell_type": "code",
   "execution_count": 73,
   "id": "suffering-walnut",
   "metadata": {},
   "outputs": [
    {
     "data": {
      "text/plain": [
       "[4, 6]"
      ]
     },
     "execution_count": 73,
     "metadata": {},
     "output_type": "execute_result"
    }
   ],
   "source": [
    "a = [2, 4, 6, 8]\n",
    "a[1:3]"
   ]
  },
  {
   "cell_type": "markdown",
   "id": "heated-decrease",
   "metadata": {},
   "source": [
    "> Note: the general rule is that `a[m:n]` returns `n-m` elements, starting at `a[m]`"
   ]
  },
  {
   "cell_type": "code",
   "execution_count": 74,
   "id": "overhead-vault",
   "metadata": {
    "tags": []
   },
   "outputs": [
    {
     "data": {
      "text/plain": [
       "[4, 6, 8]"
      ]
     },
     "execution_count": 74,
     "metadata": {},
     "output_type": "execute_result"
    }
   ],
   "source": [
    "a[1:]"
   ]
  },
  {
   "cell_type": "code",
   "execution_count": 75,
   "id": "viral-meeting",
   "metadata": {},
   "outputs": [
    {
     "data": {
      "text/plain": [
       "[6, 8]"
      ]
     },
     "execution_count": 75,
     "metadata": {},
     "output_type": "execute_result"
    }
   ],
   "source": [
    "a[-2:] # last two elements"
   ]
  },
  {
   "cell_type": "code",
   "execution_count": 76,
   "id": "absolute-minutes",
   "metadata": {},
   "outputs": [
    {
     "data": {
      "text/plain": [
       "'fi'"
      ]
     },
     "execution_count": 76,
     "metadata": {},
     "output_type": "execute_result"
    }
   ],
   "source": [
    "s = 'cemfi' \n",
    "s[-2:] # also works on strings"
   ]
  },
  {
   "cell_type": "markdown",
   "id": "chronic-arlington",
   "metadata": {},
   "source": [
    "##### Sets and Dictionaries"
   ]
  },
  {
   "cell_type": "code",
   "execution_count": 77,
   "id": "adaptive-reduction",
   "metadata": {},
   "outputs": [
    {
     "data": {
      "text/plain": [
       "dict"
      ]
     },
     "execution_count": 77,
     "metadata": {},
     "output_type": "execute_result"
    }
   ],
   "source": [
    "d = {'name':'Frodo','age':33} # dictionaries are like lists but named instead of numbered\n",
    "d['mission'] = 'to take the Ring to Mount Doom' #New key-value pairs are introduced to the dict like this\n",
    "type(d)"
   ]
  },
  {
   "cell_type": "code",
   "execution_count": 78,
   "id": "cooperative-shelf",
   "metadata": {},
   "outputs": [
    {
     "data": {
      "text/plain": [
       "{'name': 'Frodo', 'age': 33, 'mission': 'to take the Ring to Mount Doom'}"
      ]
     },
     "execution_count": 78,
     "metadata": {},
     "output_type": "execute_result"
    }
   ],
   "source": [
    "d"
   ]
  },
  {
   "cell_type": "code",
   "execution_count": 79,
   "id": "hawaiian-cleanup",
   "metadata": {},
   "outputs": [
    {
     "data": {
      "text/plain": [
       "33"
      ]
     },
     "execution_count": 79,
     "metadata": {},
     "output_type": "execute_result"
    }
   ],
   "source": [
    "d['age']"
   ]
  },
  {
   "attachments": {},
   "cell_type": "markdown",
   "id": "radio-bubble",
   "metadata": {},
   "source": [
    "The names `'name'` and `'age'` are *keys* and the objects that they are mapped to are *values*.\n",
    "You can access keys and values using the `items()` method:"
   ]
  },
  {
   "cell_type": "code",
   "execution_count": 80,
   "id": "4bfac513",
   "metadata": {},
   "outputs": [
    {
     "name": "stdout",
     "output_type": "stream",
     "text": [
      "The Hobbit's name is Frodo\n",
      "The Hobbit's age is 33\n",
      "The Hobbit's mission is to take the Ring to Mount Doom\n"
     ]
    }
   ],
   "source": [
    "for key, value in d.items():\n",
    "    print(f\"The Hobbit's {key} is {value}\")"
   ]
  },
  {
   "attachments": {},
   "cell_type": "markdown",
   "id": "e01224c6",
   "metadata": {},
   "source": [
    "\n",
    "Sets are unordered collections without duplicates."
   ]
  },
  {
   "cell_type": "code",
   "execution_count": 81,
   "id": "common-winning",
   "metadata": {},
   "outputs": [
    {
     "data": {
      "text/plain": [
       "set"
      ]
     },
     "execution_count": 81,
     "metadata": {},
     "output_type": "execute_result"
    }
   ],
   "source": [
    "s1 = {'a','b'}\n",
    "type(s1)"
   ]
  },
  {
   "cell_type": "code",
   "execution_count": 82,
   "id": "golden-islam",
   "metadata": {},
   "outputs": [
    {
     "data": {
      "text/plain": [
       "{'b'}"
      ]
     },
     "execution_count": 82,
     "metadata": {},
     "output_type": "execute_result"
    }
   ],
   "source": [
    "s2 = {'b','c'}\n",
    "s1.intersection(s2)"
   ]
  },
  {
   "cell_type": "markdown",
   "id": "cubic-orchestra",
   "metadata": {},
   "source": [
    "> Note: you can look at all the variables you created by right-clicking somewhere in the notebook and selecting `Open Variable Inspector`"
   ]
  },
  {
   "cell_type": "markdown",
   "id": "capable-superior",
   "metadata": {},
   "source": [
    "#### Iterating\n",
    "\n",
    "You can iterate over iterable objects (`list`, `tuple`, `dict`, `set`) using the `for` loop.\n",
    "\n",
    "> Note: Python knows the extent of the code block *only from indentation*\n",
    "\n",
    "Importantly, you can loop without explicit indexing. For example:"
   ]
  },
  {
   "cell_type": "code",
   "execution_count": 83,
   "id": "centered-blair",
   "metadata": {},
   "outputs": [
    {
     "name": "stdout",
     "output_type": "stream",
     "text": [
      "1\n",
      "4\n",
      "9\n"
     ]
    }
   ],
   "source": [
    "x_values = [1, 2, 3]\n",
    "for x in x_values: # note syntax\n",
    "    print(x*x)"
   ]
  },
  {
   "cell_type": "markdown",
   "id": "welcome-scanning",
   "metadata": {},
   "source": [
    "Instead of:"
   ]
  },
  {
   "cell_type": "code",
   "execution_count": 84,
   "id": "stopped-indiana",
   "metadata": {},
   "outputs": [
    {
     "name": "stdout",
     "output_type": "stream",
     "text": [
      "1\n",
      "4\n",
      "9\n"
     ]
    }
   ],
   "source": [
    "for i in range(len(x_values)):\n",
    "    print(x_values[i]*x_values[i])"
   ]
  },
  {
   "cell_type": "markdown",
   "id": "knowing-letter",
   "metadata": {},
   "source": [
    "Here is an example of looping over non-numerical objects:"
   ]
  },
  {
   "cell_type": "code",
   "execution_count": 85,
   "id": "reserved-boulder",
   "metadata": {},
   "outputs": [
    {
     "name": "stdout",
     "output_type": "stream",
     "text": [
      "The plural of dog is dogs\n",
      "The plural of cat is cats\n",
      "The plural of bird is birds\n"
     ]
    }
   ],
   "source": [
    "animals = ['dog','cat','bird']\n",
    "for animal in animals:\n",
    "    print(f\"The plural of {animal} is {animal + 's'}\")"
   ]
  },
  {
   "cell_type": "markdown",
   "id": "ongoing-worship",
   "metadata": {},
   "source": [
    "You could do the same thing using the \"list comprehension\" tool of Python"
   ]
  },
  {
   "cell_type": "code",
   "execution_count": 86,
   "id": "joint-tourism",
   "metadata": {},
   "outputs": [
    {
     "data": {
      "text/plain": [
       "['dogs', 'cats', 'birds']"
      ]
     },
     "execution_count": 86,
     "metadata": {},
     "output_type": "execute_result"
    }
   ],
   "source": [
    "plurals = [animal + 's' for animal in animals]\n",
    "plurals"
   ]
  },
  {
   "cell_type": "markdown",
   "id": "civil-township",
   "metadata": {},
   "source": [
    "`zip()` allows you to step through pairs from two sequences:"
   ]
  },
  {
   "cell_type": "code",
   "execution_count": 93,
   "id": "loose-hybrid",
   "metadata": {},
   "outputs": [
    {
     "name": "stdout",
     "output_type": "stream",
     "text": [
      "The capital of Japan is Tokyo\n",
      "The capital of Korea is Seoul\n",
      "The capital of China is Beijing\n"
     ]
    }
   ],
   "source": [
    "countries = ('Japan','Korea','China')\n",
    "cities = ('Tokyo','Seoul','Beijing')\n",
    "for country, city in zip(countries,cities): \n",
    "    print(f\"The capital of {country} is {city}\") "
   ]
  },
  {
   "cell_type": "code",
   "execution_count": 94,
   "id": "96c0aba0",
   "metadata": {},
   "outputs": [],
   "source": [
    "country_dict= {'Japan' : 'Tokyo', \n",
    "'Korea' : 'Seoul', \n",
    "'China' : 'Beijing'}\n",
    "\n"
   ]
  },
  {
   "cell_type": "code",
   "execution_count": 95,
   "id": "77984071",
   "metadata": {},
   "outputs": [],
   "source": [
    "japan_tuple = ('Japan', 'Tokyo')"
   ]
  },
  {
   "cell_type": "code",
   "execution_count": 96,
   "id": "4da73016",
   "metadata": {},
   "outputs": [
    {
     "data": {
      "text/plain": [
       "dict_items([('Japan', 'Tokyo'), ('Korea', 'Seoul'), ('China', 'Beijing')])"
      ]
     },
     "execution_count": 96,
     "metadata": {},
     "output_type": "execute_result"
    }
   ],
   "source": [
    "country_dict.items()"
   ]
  },
  {
   "cell_type": "code",
   "execution_count": 97,
   "id": "a6f21b91",
   "metadata": {},
   "outputs": [
    {
     "name": "stdout",
     "output_type": "stream",
     "text": [
      "The capital of Japan is Tokyo\n",
      "The capital of Korea is Seoul\n",
      "The capital of China is Beijing\n"
     ]
    }
   ],
   "source": [
    "for country, city in country_dict.items():\n",
    "    print(f\"The capital of {country} is {city}\")  "
   ]
  },
  {
   "cell_type": "markdown",
   "id": "hispanic-caution",
   "metadata": {},
   "source": [
    "If you actually need the index from a list, one option is to use `enumerate()`"
   ]
  },
  {
   "cell_type": "code",
   "execution_count": 98,
   "id": "grateful-graphics",
   "metadata": {},
   "outputs": [
    {
     "name": "stdout",
     "output_type": "stream",
     "text": [
      "letter_list[0]='a'\n",
      "letter_list[1]='b'\n",
      "letter_list[2]='c'\n"
     ]
    }
   ],
   "source": [
    "letter_list = ['a','b','c']\n",
    "for index, letter in enumerate(letter_list):\n",
    "    print(f\"letter_list[{index}]='{letter}'\")"
   ]
  },
  {
   "attachments": {},
   "cell_type": "markdown",
   "id": "d3286edc",
   "metadata": {},
   "source": [
    "#### A pair of very useful iteration packages: `itertools` and `tqdm`\n",
    "Sometimes you want to nest several for loops or combine them with a progress bar such as `tqdm`. The package `itertools` provides ways to combine iterables so that you can have cleaner code. For instance, imagine you want to print all combinations of city and country: we could write\n",
    "```python\n",
    "for country in countries:\n",
    "    for city in cities:\n",
    "        print(f\"{city}, {country})\n",
    "```\n",
    "or we could use the `itertools` product function that is integrated into tqdm and write: "
   ]
  },
  {
   "cell_type": "code",
   "execution_count": 99,
   "id": "8440e749",
   "metadata": {},
   "outputs": [
    {
     "data": {
      "application/vnd.jupyter.widget-view+json": {
       "model_id": "f169513e35d446a5b93a076dec6b9dc3",
       "version_major": 2,
       "version_minor": 0
      },
      "text/plain": [
       "combining cities and countries:   0%|          | 0/9 [00:00<?, ?it/s]"
      ]
     },
     "metadata": {},
     "output_type": "display_data"
    },
    {
     "name": "stdout",
     "output_type": "stream",
     "text": [
      "\n",
      "Tokyo, Japan\n",
      "Seoul, Japan\n",
      "Beijing, Japan\n",
      "Tokyo, Korea\n",
      "Seoul, Korea\n",
      "Beijing, Korea\n",
      "Tokyo, China\n",
      "Seoul, China\n",
      "Beijing, China\n"
     ]
    }
   ],
   "source": [
    "from tqdm.contrib.itertools import product as tqdmproduct\n",
    "import time\n",
    "printstring = \"\"\n",
    "for country, city in tqdmproduct(countries, cities, desc = \"combining cities and countries\"):\n",
    "    printstring = printstring + (f\"\\n{city}, {country}\")\n",
    "    time.sleep(0.3)\n",
    "print(printstring)"
   ]
  },
  {
   "cell_type": "markdown",
   "id": "expressed-century",
   "metadata": {},
   "source": [
    "#### Comparisons and Logical Operators"
   ]
  },
  {
   "cell_type": "code",
   "execution_count": 100,
   "id": "affecting-thursday",
   "metadata": {},
   "outputs": [
    {
     "data": {
      "text/plain": [
       "True"
      ]
     },
     "execution_count": 100,
     "metadata": {},
     "output_type": "execute_result"
    }
   ],
   "source": [
    "x, y = 1, 2\n",
    "x < y"
   ]
  },
  {
   "cell_type": "code",
   "execution_count": 101,
   "id": "miniature-adult",
   "metadata": {},
   "outputs": [
    {
     "data": {
      "text/plain": [
       "False"
      ]
     },
     "execution_count": 101,
     "metadata": {},
     "output_type": "execute_result"
    }
   ],
   "source": [
    "x = 1 # Assignment\n",
    "x == 2 # Comparison"
   ]
  },
  {
   "cell_type": "code",
   "execution_count": 102,
   "id": "internal-wiring",
   "metadata": {},
   "outputs": [
    {
     "data": {
      "text/plain": [
       "True"
      ]
     },
     "execution_count": 102,
     "metadata": {},
     "output_type": "execute_result"
    }
   ],
   "source": [
    "1 != 2"
   ]
  },
  {
   "cell_type": "code",
   "execution_count": 103,
   "id": "juvenile-reconstruction",
   "metadata": {},
   "outputs": [
    {
     "data": {
      "text/plain": [
       "False"
      ]
     },
     "execution_count": 103,
     "metadata": {},
     "output_type": "execute_result"
    }
   ],
   "source": [
    "1 < 2 and 'g' in 'foo' "
   ]
  },
  {
   "cell_type": "code",
   "execution_count": 104,
   "id": "316e5f8b",
   "metadata": {},
   "outputs": [],
   "source": [
    "tup = (1,2,3)"
   ]
  },
  {
   "cell_type": "code",
   "execution_count": 106,
   "id": "b166a884",
   "metadata": {},
   "outputs": [
    {
     "data": {
      "text/plain": [
       "True"
      ]
     },
     "execution_count": 106,
     "metadata": {},
     "output_type": "execute_result"
    }
   ],
   "source": [
    "4 in tup or 1 in tup"
   ]
  },
  {
   "cell_type": "code",
   "execution_count": 32,
   "id": "7e0541c5",
   "metadata": {},
   "outputs": [
    {
     "data": {
      "text/plain": [
       "True"
      ]
     },
     "execution_count": 32,
     "metadata": {},
     "output_type": "execute_result"
    }
   ],
   "source": [
    "1 < 2 or 'g' in 'foo' "
   ]
  },
  {
   "cell_type": "code",
   "execution_count": 33,
   "id": "49310627",
   "metadata": {},
   "outputs": [
    {
     "data": {
      "text/plain": [
       "True"
      ]
     },
     "execution_count": 33,
     "metadata": {},
     "output_type": "execute_result"
    }
   ],
   "source": [
    "1 < 2 and not 'g' in 'foo' "
   ]
  },
  {
   "cell_type": "code",
   "execution_count": 34,
   "id": "humanitarian-karen",
   "metadata": {},
   "outputs": [
    {
     "name": "stdout",
     "output_type": "stream",
     "text": [
      "-1\n",
      "1\n",
      "-1\n",
      "1\n"
     ]
    }
   ],
   "source": [
    "numbers = [-9, 2.3, -11, 0]\n",
    "\n",
    "for x in numbers:\n",
    "    if x < 0:\n",
    "        print(-1)\n",
    "    else:\n",
    "        print(1)"
   ]
  },
  {
   "cell_type": "markdown",
   "id": "native-audience",
   "metadata": {},
   "source": [
    "#### Functions"
   ]
  },
  {
   "cell_type": "code",
   "execution_count": 108,
   "id": "favorite-conversion",
   "metadata": {},
   "outputs": [
    {
     "data": {
      "text/plain": [
       "'nonnegative'"
      ]
     },
     "execution_count": 108,
     "metadata": {},
     "output_type": "execute_result"
    }
   ],
   "source": [
    "def check_negative(x):\n",
    "    if x < 0:\n",
    "        return 'negative'\n",
    "    return 'nonnegative'\n",
    "check_negative(5)"
   ]
  },
  {
   "cell_type": "code",
   "execution_count": 109,
   "id": "collect-mystery",
   "metadata": {},
   "outputs": [
    {
     "data": {
      "text/plain": [
       "3"
      ]
     },
     "execution_count": 109,
     "metadata": {},
     "output_type": "execute_result"
    }
   ],
   "source": [
    "def f(x, a=1, b=1): #Function with default positional inputs\n",
    "    return a + b * x\n",
    "f(2)"
   ]
  },
  {
   "cell_type": "code",
   "execution_count": 110,
   "id": "noble-investing",
   "metadata": {},
   "outputs": [
    {
     "data": {
      "text/plain": [
       "14"
      ]
     },
     "execution_count": 110,
     "metadata": {},
     "output_type": "execute_result"
    }
   ],
   "source": [
    "f(2, a=4, b=5)"
   ]
  },
  {
   "attachments": {},
   "cell_type": "markdown",
   "id": "269b96db",
   "metadata": {},
   "source": [
    "#### Object-oriented programming in Python:\n",
    "\n",
    "Python is an object-oriented language. This feature is heavily used by the most common scientific packages like Pandas, Numpy, or the GIS packages that you use. \n",
    "\n",
    "In OOP languages, objects belong to classes, which have \"attributes\" and \"methods\". For example, below we define the classes \"Human\" and \"Dog\". \n",
    "\n",
    "\"Attributes\" are pieces of information that we attach to an object. For the class \"Dog\" it is things like its breed, name, color, and so on. For a geographic dataset, it might be things like the geographic projection, dimensions, the index, and more. Later on, to get the breed of the dog named Milu, we type  `Milu.breed`.\n",
    "\n",
    "\"Methods\" are functions that we attach to objects belonging to a given class, and which might allow them to interact with other objects of the same of different classes. \n",
    "For instance, Numpy arrays have a method `np.array.mean()`. If you want to calculate the mean of a Numpy array, this is the efficient way to do so. For example: \n",
    "\n",
    "```python\n",
    "import numpy as np\n",
    "myarray = np.array([[4,4,3], [3, 7, 8]])\n",
    "myarray.mean()\n",
    "``` \n",
    "`4.833333333333333`\n",
    "\n",
    "If I want to compute the mean of the array along its columns, I will add the `**kwargs`: `axis = 0`:\n",
    "\n",
    "```python\n",
    "myarray.mean(axis = 0)\n",
    "```\n",
    "`array([3.5, 5.5, 5.5])`\n",
    "\n",
    "Along the rows: \n",
    "\n",
    "```python\n",
    "myarray.mean(axis = 1)\n",
    "```\n",
    "`myarray.mean(axis = 1)`\n",
    "\n",
    "Generally, any function that takes any complex object (i.e. any function and object in the typical libraries or packages) will be implemented in this way. Usually, utilizing the methods developed for a given object is much faster computationally than coming up with your own solution, so make sure to do your research about what methods have been implemented for your usage. "
   ]
  },
  {
   "cell_type": "code",
   "execution_count": 141,
   "id": "1b8547ea",
   "metadata": {},
   "outputs": [
    {
     "data": {
      "text/plain": [
       "array([3.5, 5.5, 5.5])"
      ]
     },
     "execution_count": 141,
     "metadata": {},
     "output_type": "execute_result"
    }
   ],
   "source": [
    "import numpy as np\n",
    "myarray = np.array([[4,4,3], [3, 7, 8]])"
   ]
  },
  {
   "attachments": {},
   "cell_type": "markdown",
   "id": "ffc544c9",
   "metadata": {},
   "source": [
    "#### The classes `Human` and `Dog`\n",
    "Here, we have a very simple example of two classes of object, `Human` and `Dog`, and the ways that they can interact through built-in methods. \n",
    "\n",
    "We first define `Human`. Humans have two attributes: their `name` and whether they are `tired` or not. "
   ]
  },
  {
   "cell_type": "code",
   "execution_count": 122,
   "id": "45deea94",
   "metadata": {},
   "outputs": [],
   "source": [
    "def add(a, b):\n",
    "    return a + b"
   ]
  },
  {
   "cell_type": "code",
   "execution_count": 134,
   "id": "96e29375",
   "metadata": {},
   "outputs": [],
   "source": [
    "d = {'text' : 'I love Python'}"
   ]
  },
  {
   "cell_type": "code",
   "execution_count": 135,
   "id": "8448f302",
   "metadata": {},
   "outputs": [
    {
     "data": {
      "text/plain": [
       "'I love Python'"
      ]
     },
     "execution_count": 135,
     "metadata": {},
     "output_type": "execute_result"
    }
   ],
   "source": [
    "d['text']"
   ]
  },
  {
   "cell_type": "code",
   "execution_count": 136,
   "id": "9afcf6bc",
   "metadata": {},
   "outputs": [],
   "source": [
    "def add(a, *args, **kwargs):\n",
    "    for i in args:\n",
    "        a = a + i\n",
    "    if 'text' in kwargs: print(kwargs['text'] + str(a))\n",
    "    return a"
   ]
  },
  {
   "cell_type": "code",
   "execution_count": 143,
   "id": "c18d9eda",
   "metadata": {},
   "outputs": [],
   "source": [
    "inputs = (1, 2, 3, 4, 5, 6) \n",
    "text = ' the numbers add up to: '"
   ]
  },
  {
   "cell_type": "code",
   "execution_count": 111,
   "id": "20eafe5b",
   "metadata": {},
   "outputs": [],
   "source": [
    "import numpy as np\n",
    "class Human:\n",
    "    animal = 'Homo Sapiens'\n",
    "    def __init__(self, name):  \n",
    "        # Instance Variable  \n",
    "        self.name = name\n",
    "        self.tired = False\n",
    "\n",
    "        #Function that defines what to represent when typing `human`\n",
    "    def __repr__(self):\n",
    "        stri = \"Human(\"\n",
    "        for key, value in self.__dict__.items():\n",
    "            stri = stri + str(key) + ' : ' + str(value) + ', '\n",
    "        \n",
    "        print(r\"\"\"_/ _ _ \\_  \n",
    "(o / | \\ o)\n",
    " || o|o ||\n",
    " | \\_|_/ |\n",
    " |  ___  |\n",
    " | (___) |\n",
    " |\\_____/|\n",
    " | \\___/ |\n",
    " \\       /\n",
    "  \\__ __/\n",
    "     U\"\"\")\n",
    "        return stri + \")\" \n",
    "\n",
    "    #Self-contained method: resting. Changes rested status\n",
    "    def Rest(self):\n",
    "        if self.tired == True:\n",
    "            print(self.name + \" has rested\")\n",
    "            self.tired = False\n",
    "        else: print('Come on, no need to rest!')\n",
    "\n",
    "    def Greet(self, anotherhuman):\n",
    "        print(self.name + ' greets ' + anotherhuman.name)\n",
    "\n",
    "    #function to walk, alone or with a dog!\n",
    "    def Walk(self, **kwargs):\n",
    "        if 'dog' in kwargs.keys():\n",
    "            dog = kwargs['dog']\n",
    "            try: \n",
    "                ##This will fail if the creature you try to walk has no owner attribute, will go to the except\n",
    "                if dog.owner == self.name:\n",
    "                    if self.tired == True:\n",
    "                        print(f\"{self.name} is too tired to walk the dog\")\n",
    "                    else: \n",
    "                        if dog.name == None:\n",
    "                            print(self.name + ' walks their ' + dog.breed)\n",
    "                        else: print(self.name + ' walks ' + dog.name)\n",
    "                        self.tired = True; dog.tired = True\n",
    "                elif not dog.owner == None:\n",
    "                    print('This ' + dog.breed + ' belongs to ' + dog.owner + ', he does not trust ' + self.name)\n",
    "                else: print('This ' + dog.breed + ' seems to have no owner, maybe you can pet it')\n",
    "            except: \n",
    "                print(f\"{self.name} , you cannot walk a {dog.animal} like they are a dog!\")\n",
    "        else: \n",
    "            print(f\"{self.name} takes a  stroll\")\n",
    "    def Pet(self, dog):\n",
    "        if dog.animal =='dog':\n",
    "            if dog.owner == self.name:\n",
    "                if dog.name == None:\n",
    "                    print(self.name + ' pets their ' + dog.breed)\n",
    "                else: print(self.name + ' pets ' + dog.name)\n",
    "            elif (not dog.owner == self.name) and (not dog.owner == None):\n",
    "                print(self.name + ' pets ' + dog.owner + \"'s dog\")\n",
    "            else: \n",
    "                print(self.name + ' pets ' + dog.breed + ', it seems to like them very much!')\n",
    "                dog.setOwner(self.name)\n",
    "        else: \n",
    "            print(f\"{self.name}, you cannot pet a {dog.animal} like they're a dog!\")\n",
    "\n",
    "Tintin = Human(\"Tintin\")"
   ]
  },
  {
   "cell_type": "code",
   "execution_count": 112,
   "id": "82b1fed7",
   "metadata": {},
   "outputs": [],
   "source": [
    "class Dog: \n",
    "    # Class Variable  \n",
    "    animal = 'dog'      \n",
    "\n",
    "    # The init method or constructor  \n",
    "    def __init__(self, breed):  \n",
    "\n",
    "        # Instance Variable  \n",
    "        self.breed = breed     \n",
    "        self.name = None\n",
    "        self.color = None\n",
    "        self.owner = None   \n",
    "        self.tired = False\n",
    "\n",
    "    #Function that defines what to print to the screen when asking for a dog class object\n",
    "    def __repr__(self):\n",
    "        stri = \"Dog(\"\n",
    "        for key, value in self.__dict__.items():\n",
    "            stri = stri + str(key) + ' : ' + str(value) + ', '\n",
    "        \n",
    "        print(r\"\"\"  __      _\n",
    "o'')}____//\n",
    " `_/      )\n",
    " (_(_/-(_/\n",
    "            \"\"\")\n",
    "        return stri + \")\" \n",
    "\n",
    "    # Adds an instance variable   \n",
    "    def setColor(self, color):  \n",
    "        self.color = color  \n",
    "\n",
    "    # Retrieves instance variable      \n",
    "    def getColor(self):      \n",
    "        return self.color     \n",
    "\n",
    "    #Add another instance variable: Owner\n",
    "    def setOwner(self, owner):\n",
    "        self.owner = owner\n",
    "    def getOwner(self):\n",
    "        return self.owner\n",
    "    #And another: Name!!!\n",
    "    def setName(self, name):\n",
    "        self.name = name\n",
    "    def getName(self):\n",
    "        return self.name\n",
    "\n",
    "    #Self-contained method: barking\n",
    "    def Bark(self, ntimes):\n",
    "        bark = \"Woof! \"\n",
    "        print(bark*ntimes)\n",
    "\n",
    "    def Rest(self):\n",
    "        if self.tired == True:\n",
    "            if self.name == None:\n",
    "                print(self.breed + \" rested, he's ready to fight again\")\n",
    "            else: print(self.name + \" rested, he's ready to fight again\")\n",
    "            self.tired = False\n",
    "        else: print('Come on, no need to rest!')\n",
    "\n",
    "    #function to fight with another dog\n",
    "    def Fight(self, anotherdog):\n",
    "        if self.tired == True:\n",
    "            loser = self; winner = anotherdog\n",
    "            if self.name == None:\n",
    "                print(self.breed + ' was too tired to fight, he needs to rest!')\n",
    "            else: print(self.name + ' was too tired to fight, he needs to rest!')\n",
    "        elif anotherdog.tired == True:\n",
    "            winner = self; loser = anotherdog\n",
    "            if self.name == None:\n",
    "                print(self.breed + ' wins, the other dog was exhausted!')\n",
    "            else: print(self.name + ' wins, the other dog was exhausted!')\n",
    "        else:\n",
    "            eps = np.random.random([1])\n",
    "            #Who wins?\n",
    "            if eps > 0.5: winner = self; loser = anotherdog\n",
    "            else: winner = anotherdog; loser = self\n",
    "            #By how much?\n",
    "            if abs(0.5-eps) < 0.25: text = ' barely beats '\n",
    "            else: text = ' beats the shit out of '\n",
    "            #Output\n",
    "            if winner.name == None and loser.name == None:\n",
    "                print(winner.breed + text + winner.breed)\n",
    "            elif (not winner.name == None) and loser.name == None: \n",
    "                print(winner.name + text + loser.breed)\n",
    "            elif (winner.name == None) and (not loser.name == None): \n",
    "                print(winner.breed + text + loser.name)\n",
    "            else: print(winner.name + text + loser.name)\n",
    "        loser.tired = True\n",
    "        return "
   ]
  },
  {
   "cell_type": "code",
   "execution_count": 113,
   "id": "f303c3f0",
   "metadata": {},
   "outputs": [
    {
     "name": "stdout",
     "output_type": "stream",
     "text": [
      "_/ _ _ \\_  \n",
      "(o / | \\ o)\n",
      " || o|o ||\n",
      " | \\_|_/ |\n",
      " |  ___  |\n",
      " | (___) |\n",
      " |\\_____/|\n",
      " | \\___/ |\n",
      " \\       /\n",
      "  \\__ __/\n",
      "     U\n"
     ]
    },
    {
     "data": {
      "text/plain": [
       "Human(name : Tintin, tired : False, )"
      ]
     },
     "execution_count": 113,
     "metadata": {},
     "output_type": "execute_result"
    }
   ],
   "source": [
    "Tintin"
   ]
  },
  {
   "cell_type": "code",
   "execution_count": 114,
   "id": "ca59bacb",
   "metadata": {},
   "outputs": [
    {
     "name": "stdout",
     "output_type": "stream",
     "text": [
      "  __      _\n",
      "o'')}____//\n",
      " `_/      )\n",
      " (_(_/-(_/\n",
      "            \n"
     ]
    },
    {
     "data": {
      "text/plain": [
       "Dog(breed : pug, name : None, color : brown, owner : None, tired : False, )"
      ]
     },
     "execution_count": 114,
     "metadata": {},
     "output_type": "execute_result"
    }
   ],
   "source": [
    "#Make a dog called Rodger:\n",
    "Rodger = Dog(\"pug\"); Rodger.setColor(\"brown\")  \n",
    "# Rodger.setName(\"Rodger\")\n",
    "Rodger"
   ]
  },
  {
   "cell_type": "code",
   "execution_count": 115,
   "id": "6b9b3ee9",
   "metadata": {},
   "outputs": [
    {
     "name": "stdout",
     "output_type": "stream",
     "text": [
      "  __      _\n",
      "o'')}____//\n",
      " `_/      )\n",
      " (_(_/-(_/\n",
      "            \n"
     ]
    },
    {
     "data": {
      "text/plain": [
       "Dog(breed : Fox Terrier, name : Milu, color : White, owner : Tintin, tired : False, )"
      ]
     },
     "execution_count": 115,
     "metadata": {},
     "output_type": "execute_result"
    }
   ],
   "source": [
    "#Make a dog called Milu:\n",
    "Milu = Dog(\"Fox Terrier\"); Milu.setColor(\"White\"); Milu.setOwner('Tintin'); Milu.setName('Milu')\n",
    "Milu"
   ]
  },
  {
   "cell_type": "code",
   "execution_count": 117,
   "id": "3f9edf3a",
   "metadata": {},
   "outputs": [
    {
     "name": "stdout",
     "output_type": "stream",
     "text": [
      "Milu wins, the other dog was exhausted!\n"
     ]
    }
   ],
   "source": [
    "Milu.Fight(Rodger)"
   ]
  },
  {
   "cell_type": "code",
   "execution_count": 120,
   "id": "1b5da822",
   "metadata": {},
   "outputs": [],
   "source": [
    "a = 2\n",
    "b = 'true'"
   ]
  },
  {
   "cell_type": "code",
   "execution_count": 118,
   "id": "70dae30a",
   "metadata": {},
   "outputs": [
    {
     "name": "stdout",
     "output_type": "stream",
     "text": [
      "pug was too tired to fight, he needs to rest!\n"
     ]
    }
   ],
   "source": [
    "Rodger.Fight(Milu)"
   ]
  },
  {
   "cell_type": "code",
   "execution_count": 119,
   "id": "8dc27819",
   "metadata": {},
   "outputs": [],
   "source": [
    "Rodger.setName('Rodger')"
   ]
  },
  {
   "cell_type": "code",
   "execution_count": 45,
   "id": "16706011",
   "metadata": {},
   "outputs": [
    {
     "name": "stdout",
     "output_type": "stream",
     "text": [
      "Milu rested, he's ready to fight again\n"
     ]
    }
   ],
   "source": [
    "Milu.Rest()"
   ]
  },
  {
   "cell_type": "code",
   "execution_count": 46,
   "id": "c2ce3fc8",
   "metadata": {},
   "outputs": [
    {
     "name": "stdout",
     "output_type": "stream",
     "text": [
      "Milu barely beats Rodger\n"
     ]
    }
   ],
   "source": [
    "Milu.Fight(Rodger)"
   ]
  },
  {
   "cell_type": "code",
   "execution_count": 47,
   "id": "a2c0b9d1",
   "metadata": {},
   "outputs": [
    {
     "data": {
      "text/plain": [
       "False"
      ]
     },
     "execution_count": 47,
     "metadata": {},
     "output_type": "execute_result"
    }
   ],
   "source": [
    "Milu.tired"
   ]
  },
  {
   "cell_type": "code",
   "execution_count": 139,
   "id": "a5a99513",
   "metadata": {},
   "outputs": [
    {
     "name": "stdout",
     "output_type": "stream",
     "text": [
      "Tintin walks Milu\n"
     ]
    }
   ],
   "source": [
    "Tintin.Walk(dog = Milu)"
   ]
  },
  {
   "cell_type": "code",
   "execution_count": 138,
   "id": "3ddd4e71",
   "metadata": {},
   "outputs": [
    {
     "name": "stdout",
     "output_type": "stream",
     "text": [
      "Tintin takes a  stroll\n"
     ]
    }
   ],
   "source": [
    "Tintin.Walk()"
   ]
  },
  {
   "cell_type": "code",
   "execution_count": 50,
   "id": "7a872f47",
   "metadata": {},
   "outputs": [
    {
     "name": "stdout",
     "output_type": "stream",
     "text": [
      "Tintin pets pug, it seems to like them very much!\n"
     ]
    }
   ],
   "source": [
    "Tintin.Pet(Rodger)"
   ]
  },
  {
   "cell_type": "code",
   "execution_count": 51,
   "id": "39a7ecbf",
   "metadata": {},
   "outputs": [],
   "source": [
    "Amelia = Human('Amelia')"
   ]
  },
  {
   "cell_type": "code",
   "execution_count": 52,
   "id": "9b8d1ef8",
   "metadata": {},
   "outputs": [
    {
     "name": "stdout",
     "output_type": "stream",
     "text": [
      "Milu was too tired to fight, he needs to rest!\n"
     ]
    }
   ],
   "source": [
    "Milu.Fight(Tintin)"
   ]
  },
  {
   "cell_type": "code",
   "execution_count": 53,
   "id": "5b508be1",
   "metadata": {},
   "outputs": [
    {
     "name": "stdout",
     "output_type": "stream",
     "text": [
      "Milu rested, he's ready to fight again\n"
     ]
    }
   ],
   "source": [
    "Milu.Rest()"
   ]
  },
  {
   "cell_type": "code",
   "execution_count": 54,
   "id": "66a9c105",
   "metadata": {},
   "outputs": [
    {
     "name": "stdout",
     "output_type": "stream",
     "text": [
      "Tintin greets Milu\n"
     ]
    }
   ],
   "source": [
    "Tintin.Greet(Milu)"
   ]
  },
  {
   "cell_type": "code",
   "execution_count": 55,
   "id": "3c211632",
   "metadata": {},
   "outputs": [
    {
     "name": "stdout",
     "output_type": "stream",
     "text": [
      "Tintin, you cannot pet a Homo Sapiens like they're a dog!\n"
     ]
    }
   ],
   "source": [
    "Tintin.Pet(Amelia)"
   ]
  },
  {
   "cell_type": "code",
   "execution_count": 56,
   "id": "40d80181",
   "metadata": {},
   "outputs": [
    {
     "name": "stdout",
     "output_type": "stream",
     "text": [
      "Tintin , you cannot walk a Homo Sapiens like they are a dog!\n"
     ]
    }
   ],
   "source": [
    "Tintin.Walk(dog = Amelia)"
   ]
  },
  {
   "cell_type": "code",
   "execution_count": 57,
   "id": "52d20600",
   "metadata": {},
   "outputs": [
    {
     "name": "stdout",
     "output_type": "stream",
     "text": [
      "Tintin has rested\n"
     ]
    }
   ],
   "source": [
    "Tintin.Rest()"
   ]
  },
  {
   "cell_type": "code",
   "execution_count": 58,
   "id": "5bc0981f",
   "metadata": {},
   "outputs": [
    {
     "name": "stdout",
     "output_type": "stream",
     "text": [
      "Woof! Woof! Woof! Woof! \n"
     ]
    }
   ],
   "source": [
    "Rodger.Bark(4)"
   ]
  },
  {
   "cell_type": "code",
   "execution_count": 59,
   "id": "ecd547e0",
   "metadata": {},
   "outputs": [],
   "source": [
    "class Chaos:\n",
    "  \"\"\"\n",
    "  Models the dynamical system :math:`x_{t+1} = r x_t (1 - x_t)`\n",
    "  \"\"\"\n",
    "  def __init__(self, x0, r):\n",
    "      \"\"\"\n",
    "      Initialize with state x0 and parameter r\n",
    "      \"\"\"\n",
    "      self.x, self.r = x0, r\n",
    "\n",
    "  def update(self):\n",
    "      \"Apply the map to update state.\"\n",
    "      self.x =  self.r * self.x *(1 - self.x)\n",
    "\n",
    "  def generate_sequence(self, n):\n",
    "      \"Generate and return a sequence of length n.\"\n",
    "      path = []\n",
    "      for i in range(n):\n",
    "          path.append(self.x)\n",
    "          self.update()\n",
    "      return path"
   ]
  },
  {
   "cell_type": "code",
   "execution_count": 60,
   "id": "132a0190",
   "metadata": {},
   "outputs": [
    {
     "data": {
      "image/png": "[encoded data removed]",
      "text/plain": [
       "<Figure size 432x288 with 1 Axes>"
      ]
     },
     "metadata": {
      "needs_background": "light"
     },
     "output_type": "display_data"
    }
   ],
   "source": [
    "import matplotlib.pyplot as plt\n",
    "fig, ax = plt.subplots()\n",
    "ch = Chaos(0.1, 4)\n",
    "r = 2.5\n",
    "while r < 4:\n",
    "    ch.r = r\n",
    "    t = ch.generate_sequence(1000)[950:]\n",
    "    ax.plot([r] * len(t), t, 'b.', ms=0.6)\n",
    "    r = r + 0.005\n",
    "\n",
    "ax.set_xlabel('$r$', fontsize=16)\n",
    "ax.set_ylabel('$x_t$', fontsize=16)\n",
    "plt.show()"
   ]
  }
 ],
 "metadata": {
  "kernelspec": {
   "display_name": "Python 3 (ipykernel)",
   "language": "python",
   "name": "python3"
  },
  "language_info": {
   "codemirror_mode": {
    "name": "ipython",
    "version": 3
   },
   "file_extension": ".py",
   "mimetype": "text/x-python",
   "name": "python",
   "nbconvert_exporter": "python",
   "pygments_lexer": "ipython3",
   "version": "3.9.12"
  },
  "vscode": {
   "interpreter": {
    "hash": "682183d1e1ea710cdea3a31eb6787b575e9eca5ed909d8154604d7d2a5c5c515"
   }
  }
 },
 "nbformat": 4,
 "nbformat_minor": 5
}

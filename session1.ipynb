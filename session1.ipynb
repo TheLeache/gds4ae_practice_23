{
 "cells": [
  {
   "cell_type": "markdown",
   "id": "natural-clark",
   "metadata": {},
   "source": [
    "## 1. Python Programming Essentials\n",
    "\n",
    "We are now ready to start learning the Python language itself. \n",
    "\n",
    "### Basic Syntax"
   ]
  },
  {
   "cell_type": "code",
   "execution_count": 1,
   "id": "elegant-distinction",
   "metadata": {},
   "outputs": [
    {
     "name": "stdout",
     "output_type": "stream",
     "text": [
      "hola mundo\n"
     ]
    }
   ],
   "source": [
    "# comments start with #\n",
    "x = 'hola mundo' # use '' or \"\" for strings\n",
    "print(x)"
   ]
  },
  {
   "cell_type": "markdown",
   "id": "entire-booking",
   "metadata": {},
   "source": [
    "#### Primitive Data Types\n",
    "\n",
    "Variables in Python don't need to be declared, just used for the first time, and can change their type when overwritten."
   ]
  },
  {
   "cell_type": "code",
   "execution_count": 2,
   "id": "inappropriate-economics",
   "metadata": {},
   "outputs": [
    {
     "name": "stdout",
     "output_type": "stream",
     "text": [
      "<class 'int'>\n",
      "<class 'float'>\n",
      "<class 'bool'>\n",
      "False\n"
     ]
    }
   ],
   "source": [
    "x = 3\n",
    "print(type(x))\n",
    "y = 2.5\n",
    "print(type(y))\n",
    "v = 100 < 10\n",
    "print(type(v))\n",
    "print(v)"
   ]
  },
  {
   "cell_type": "code",
   "execution_count": 3,
   "id": "medieval-castle",
   "metadata": {},
   "outputs": [
    {
     "data": {
      "text/plain": [
       "1"
      ]
     },
     "execution_count": 3,
     "metadata": {},
     "output_type": "execute_result"
    }
   ],
   "source": [
    "v1 = False\n",
    "v2 = True\n",
    "v1 + v2 # boolean arithmetic"
   ]
  },
  {
   "cell_type": "markdown",
   "id": "decent-extent",
   "metadata": {},
   "source": [
    "#### Containers\n",
    "\n",
    "Collection of objects\n",
    "\n",
    "##### Lists and Tuples"
   ]
  },
  {
   "cell_type": "code",
   "execution_count": 4,
   "id": "infrared-workshop",
   "metadata": {},
   "outputs": [
    {
     "data": {
      "text/plain": [
       "[]"
      ]
     },
     "execution_count": 4,
     "metadata": {},
     "output_type": "execute_result"
    }
   ],
   "source": [
    "ϵ = [] # creates an empty list, type \\epsilon + tab to automatically get mathematical symbol\n",
    "ϵ"
   ]
  },
  {
   "cell_type": "code",
   "execution_count": 5,
   "id": "retired-airplane",
   "metadata": {},
   "outputs": [
    {
     "data": {
      "text/plain": [
       "list"
      ]
     },
     "execution_count": 5,
     "metadata": {},
     "output_type": "execute_result"
    }
   ],
   "source": [
    "x = [10,'foo',False] # can combine different data types\n",
    "type(x)"
   ]
  },
  {
   "cell_type": "code",
   "execution_count": 6,
   "id": "seasonal-julian",
   "metadata": {},
   "outputs": [
    {
     "data": {
      "text/plain": [
       "[10, 'foo', False, 2.5]"
      ]
     },
     "execution_count": 6,
     "metadata": {},
     "output_type": "execute_result"
    }
   ],
   "source": [
    "x.append(2.5) # adding a value to a list\n",
    "x"
   ]
  },
  {
   "cell_type": "code",
   "execution_count": 7,
   "id": "efade3e3",
   "metadata": {},
   "outputs": [
    {
     "name": "stdout",
     "output_type": "stream",
     "text": [
      "10\n",
      "foo\n",
      "False\n",
      "2.5\n"
     ]
    }
   ],
   "source": [
    "for element in x:\n",
    "    print(element)"
   ]
  },
  {
   "cell_type": "markdown",
   "id": "amazing-testament",
   "metadata": {},
   "source": [
    "> Note: Lists in Python are **zero-based**, so the first element is referenced by `x[0]`"
   ]
  },
  {
   "cell_type": "code",
   "execution_count": 8,
   "id": "limited-cliff",
   "metadata": {},
   "outputs": [
    {
     "data": {
      "text/plain": [
       "10"
      ]
     },
     "execution_count": 8,
     "metadata": {},
     "output_type": "execute_result"
    }
   ],
   "source": [
    "x[0]"
   ]
  },
  {
   "cell_type": "markdown",
   "id": "optional-universe",
   "metadata": {},
   "source": [
    "Lists are \"mutable\" which means they can still be altered after creation"
   ]
  },
  {
   "cell_type": "code",
   "execution_count": 9,
   "id": "parliamentary-private",
   "metadata": {},
   "outputs": [
    {
     "data": {
      "text/plain": [
       "[10, 2]"
      ]
     },
     "execution_count": 9,
     "metadata": {},
     "output_type": "execute_result"
    }
   ],
   "source": [
    "y = [1,2]\n",
    "y[0] = 10 # assigning new value using index\n",
    "y"
   ]
  },
  {
   "cell_type": "markdown",
   "id": "several-crisis",
   "metadata": {},
   "source": [
    "Tuples are \"immutable\" lists, i.e. the object cannot be changed."
   ]
  },
  {
   "cell_type": "code",
   "execution_count": 10,
   "id": "addressed-technician",
   "metadata": {
    "tags": []
   },
   "outputs": [],
   "source": [
    "y = (1,2)"
   ]
  },
  {
   "attachments": {},
   "cell_type": "markdown",
   "id": "697bd9a5",
   "metadata": {},
   "source": [
    "```python\n",
    "y[0] = 10\n",
    "---------------------------------------------------------------------------\n",
    "TypeError                                 Traceback (most recent call last)\n",
    "h:\\My Drive\\CEMFI\\2022_PhD\\gds4ae_practice_23\\session1.ipynb Cell 23 in <cell line: 1>()\n",
    "----> 1 y[0] = 10\n",
    "\n",
    "TypeError: 'tuple' object does not support item assignment\n",
    "```"
   ]
  },
  {
   "cell_type": "markdown",
   "id": "faced-conditions",
   "metadata": {},
   "source": [
    "Both lists and tuples can be \"unpacked\""
   ]
  },
  {
   "cell_type": "code",
   "execution_count": 11,
   "id": "human-match",
   "metadata": {
    "tags": []
   },
   "outputs": [
    {
     "data": {
      "text/plain": [
       "20"
      ]
     },
     "execution_count": 11,
     "metadata": {},
     "output_type": "execute_result"
    }
   ],
   "source": [
    "integers = (10, 20, 30)\n",
    "x, y, z = integers\n",
    "y"
   ]
  },
  {
   "cell_type": "markdown",
   "id": "inside-fourth",
   "metadata": {},
   "source": [
    "To access multiple elements of a list or tuple, you can use Python's **slice notation**."
   ]
  },
  {
   "cell_type": "code",
   "execution_count": 12,
   "id": "suffering-walnut",
   "metadata": {},
   "outputs": [
    {
     "data": {
      "text/plain": [
       "[4, 6]"
      ]
     },
     "execution_count": 12,
     "metadata": {},
     "output_type": "execute_result"
    }
   ],
   "source": [
    "a = [2, 4, 6, 8]\n",
    "a[1:3]"
   ]
  },
  {
   "cell_type": "markdown",
   "id": "heated-decrease",
   "metadata": {},
   "source": [
    "> Note: the general rule is that `a[m:n]` returns `n-m` elements, starting at `a[m]`"
   ]
  },
  {
   "cell_type": "code",
   "execution_count": 13,
   "id": "overhead-vault",
   "metadata": {
    "tags": []
   },
   "outputs": [
    {
     "data": {
      "text/plain": [
       "[4, 6, 8]"
      ]
     },
     "execution_count": 13,
     "metadata": {},
     "output_type": "execute_result"
    }
   ],
   "source": [
    "a[1:]"
   ]
  },
  {
   "cell_type": "code",
   "execution_count": 14,
   "id": "viral-meeting",
   "metadata": {},
   "outputs": [
    {
     "data": {
      "text/plain": [
       "[6, 8]"
      ]
     },
     "execution_count": 14,
     "metadata": {},
     "output_type": "execute_result"
    }
   ],
   "source": [
    "a[-2:] # last two elements"
   ]
  },
  {
   "cell_type": "code",
   "execution_count": 15,
   "id": "absolute-minutes",
   "metadata": {},
   "outputs": [
    {
     "data": {
      "text/plain": [
       "'fi'"
      ]
     },
     "execution_count": 15,
     "metadata": {},
     "output_type": "execute_result"
    }
   ],
   "source": [
    "s = 'cemfi' \n",
    "s[-2:] # also works on strings"
   ]
  },
  {
   "cell_type": "markdown",
   "id": "chronic-arlington",
   "metadata": {},
   "source": [
    "##### Sets and Dictionaries"
   ]
  },
  {
   "cell_type": "code",
   "execution_count": 16,
   "id": "adaptive-reduction",
   "metadata": {},
   "outputs": [
    {
     "data": {
      "text/plain": [
       "dict"
      ]
     },
     "execution_count": 16,
     "metadata": {},
     "output_type": "execute_result"
    }
   ],
   "source": [
    "d = {'name':'Frodo','age':33} # dictionaries are like lists but named instead of numbered\n",
    "d['mission'] = 'to take the Ring to Mount Doom' #New key-value pairs are introduced to the dict like this\n",
    "type(d)"
   ]
  },
  {
   "cell_type": "code",
   "execution_count": 17,
   "id": "cooperative-shelf",
   "metadata": {},
   "outputs": [
    {
     "data": {
      "text/plain": [
       "{'name': 'Frodo', 'age': 33, 'mission': 'to take the Ring to Mount Doom'}"
      ]
     },
     "execution_count": 17,
     "metadata": {},
     "output_type": "execute_result"
    }
   ],
   "source": [
    "d"
   ]
  },
  {
   "cell_type": "code",
   "execution_count": 18,
   "id": "hawaiian-cleanup",
   "metadata": {},
   "outputs": [
    {
     "data": {
      "text/plain": [
       "33"
      ]
     },
     "execution_count": 18,
     "metadata": {},
     "output_type": "execute_result"
    }
   ],
   "source": [
    "d['age']"
   ]
  },
  {
   "attachments": {},
   "cell_type": "markdown",
   "id": "radio-bubble",
   "metadata": {},
   "source": [
    "The names `'name'` and `'age'` are *keys* and the objects that they are mapped to are *values*.\n",
    "You can access keys and values using the `items()` method:"
   ]
  },
  {
   "cell_type": "code",
   "execution_count": 19,
   "id": "4bfac513",
   "metadata": {},
   "outputs": [
    {
     "name": "stdout",
     "output_type": "stream",
     "text": [
      "The Hobbit's name is Frodo\n",
      "The Hobbit's age is 33\n",
      "The Hobbit's mission is to take the Ring to Mount Doom\n"
     ]
    }
   ],
   "source": [
    "for key, value in d.items():\n",
    "    print(f\"The Hobbit's {key} is {value}\")"
   ]
  },
  {
   "attachments": {},
   "cell_type": "markdown",
   "id": "e01224c6",
   "metadata": {},
   "source": [
    "\n",
    "Sets are unordered collections without duplicates."
   ]
  },
  {
   "cell_type": "code",
   "execution_count": 20,
   "id": "common-winning",
   "metadata": {},
   "outputs": [
    {
     "data": {
      "text/plain": [
       "set"
      ]
     },
     "execution_count": 20,
     "metadata": {},
     "output_type": "execute_result"
    }
   ],
   "source": [
    "s1 = {'a','b'}\n",
    "type(s1)"
   ]
  },
  {
   "cell_type": "code",
   "execution_count": 21,
   "id": "golden-islam",
   "metadata": {},
   "outputs": [
    {
     "data": {
      "text/plain": [
       "{'b'}"
      ]
     },
     "execution_count": 21,
     "metadata": {},
     "output_type": "execute_result"
    }
   ],
   "source": [
    "s2 = {'b','c'}\n",
    "s1.intersection(s2)"
   ]
  },
  {
   "cell_type": "markdown",
   "id": "cubic-orchestra",
   "metadata": {},
   "source": [
    "> Note: you can look at all the variables you created by right-clicking somewhere in the notebook and selecting `Open Variable Inspector`"
   ]
  },
  {
   "cell_type": "markdown",
   "id": "capable-superior",
   "metadata": {},
   "source": [
    "#### Iterating\n",
    "\n",
    "You can iterate over iterable objects (`list`, `tuple`, `dict`, `set`) using the `for` loop.\n",
    "\n",
    "> Note: Python knows the extent of the code block *only from indentation*\n",
    "\n",
    "Importantly, you can loop without explicit indexing. For example:"
   ]
  },
  {
   "cell_type": "code",
   "execution_count": 22,
   "id": "centered-blair",
   "metadata": {},
   "outputs": [
    {
     "name": "stdout",
     "output_type": "stream",
     "text": [
      "1\n",
      "4\n",
      "9\n"
     ]
    }
   ],
   "source": [
    "x_values = [1, 2, 3]\n",
    "for x in x_values: # note syntax\n",
    "    print(x*x)"
   ]
  },
  {
   "cell_type": "markdown",
   "id": "welcome-scanning",
   "metadata": {},
   "source": [
    "Instead of:"
   ]
  },
  {
   "cell_type": "code",
   "execution_count": 23,
   "id": "stopped-indiana",
   "metadata": {},
   "outputs": [
    {
     "name": "stdout",
     "output_type": "stream",
     "text": [
      "1\n",
      "4\n",
      "9\n"
     ]
    }
   ],
   "source": [
    "for i in range(len(x_values)):\n",
    "    print(x_values[i]*x_values[i])"
   ]
  },
  {
   "cell_type": "markdown",
   "id": "knowing-letter",
   "metadata": {},
   "source": [
    "Here is an example of looping over non-numerical objects:"
   ]
  },
  {
   "cell_type": "code",
   "execution_count": 24,
   "id": "reserved-boulder",
   "metadata": {},
   "outputs": [
    {
     "name": "stdout",
     "output_type": "stream",
     "text": [
      "The plural of dog is dogs\n",
      "The plural of cat is cats\n",
      "The plural of bird is birds\n"
     ]
    }
   ],
   "source": [
    "animals = ['dog','cat','bird']\n",
    "for animal in animals:\n",
    "    print(f\"The plural of {animal} is {animal + 's'}\")"
   ]
  },
  {
   "cell_type": "markdown",
   "id": "ongoing-worship",
   "metadata": {},
   "source": [
    "You could do the same thing using the \"list comprehension\" tool of Python"
   ]
  },
  {
   "cell_type": "code",
   "execution_count": 25,
   "id": "joint-tourism",
   "metadata": {},
   "outputs": [
    {
     "data": {
      "text/plain": [
       "['dogs', 'cats', 'birds']"
      ]
     },
     "execution_count": 25,
     "metadata": {},
     "output_type": "execute_result"
    }
   ],
   "source": [
    "plurals = [animal + 's' for animal in animals]\n",
    "plurals"
   ]
  },
  {
   "cell_type": "markdown",
   "id": "civil-township",
   "metadata": {},
   "source": [
    "`zip()` allows you to step through pairs from two sequences:"
   ]
  },
  {
   "cell_type": "code",
   "execution_count": 26,
   "id": "loose-hybrid",
   "metadata": {},
   "outputs": [
    {
     "name": "stdout",
     "output_type": "stream",
     "text": [
      "The capital of Japan is Tokyo\n",
      "The capital of Korea is Seoul\n",
      "The capital of China is Beijing\n"
     ]
    }
   ],
   "source": [
    "countries = ('Japan','Korea','China')\n",
    "cities = ('Tokyo','Seoul','Beijing')\n",
    "for country, city in zip(countries,cities): \n",
    "    print(f\"The capital of {country} is {city}\") "
   ]
  },
  {
   "cell_type": "code",
   "execution_count": 27,
   "id": "96c0aba0",
   "metadata": {},
   "outputs": [],
   "source": [
    "country_dict= {'Japan' : 'Tokyo', \n",
    "'Korea' : 'Seoul', \n",
    "'China' : 'Beijing'}\n",
    "\n"
   ]
  },
  {
   "cell_type": "code",
   "execution_count": 28,
   "id": "77984071",
   "metadata": {},
   "outputs": [],
   "source": [
    "japan_tuple = ('Japan', 'Tokyo')"
   ]
  },
  {
   "cell_type": "code",
   "execution_count": 29,
   "id": "4da73016",
   "metadata": {},
   "outputs": [
    {
     "data": {
      "text/plain": [
       "dict_items([('Japan', 'Tokyo'), ('Korea', 'Seoul'), ('China', 'Beijing')])"
      ]
     },
     "execution_count": 29,
     "metadata": {},
     "output_type": "execute_result"
    }
   ],
   "source": [
    "country_dict.items()"
   ]
  },
  {
   "cell_type": "code",
   "execution_count": 30,
   "id": "a6f21b91",
   "metadata": {},
   "outputs": [
    {
     "name": "stdout",
     "output_type": "stream",
     "text": [
      "The capital of Japan is Tokyo\n",
      "The capital of Korea is Seoul\n",
      "The capital of China is Beijing\n"
     ]
    }
   ],
   "source": [
    "for country, city in country_dict.items():\n",
    "    print(f\"The capital of {country} is {city}\")  "
   ]
  },
  {
   "cell_type": "markdown",
   "id": "hispanic-caution",
   "metadata": {},
   "source": [
    "If you actually need the index from a list, one option is to use `enumerate()`"
   ]
  },
  {
   "cell_type": "code",
   "execution_count": 31,
   "id": "grateful-graphics",
   "metadata": {},
   "outputs": [
    {
     "name": "stdout",
     "output_type": "stream",
     "text": [
      "letter_list[0]='a'\n",
      "letter_list[1]='b'\n",
      "letter_list[2]='c'\n"
     ]
    }
   ],
   "source": [
    "letter_list = ['a','b','c']\n",
    "for index, letter in enumerate(letter_list):\n",
    "    print(f\"letter_list[{index}]='{letter}'\")"
   ]
  },
  {
   "attachments": {},
   "cell_type": "markdown",
   "id": "d3286edc",
   "metadata": {},
   "source": [
    "#### A pair of very useful iteration packages: `itertools` and `tqdm`\n",
    "Sometimes you want to nest several for loops or combine them with a progress bar such as `tqdm`. The package `itertools` provides ways to combine iterables so that you can have cleaner code. For instance, imagine you want to print all combinations of city and country: we could write\n",
    "```python\n",
    "for country in countries:\n",
    "    for city in cities:\n",
    "        print(f\"{city}, {country})\n",
    "```\n",
    "or we could use the `itertools` product function that is integrated into tqdm and write: "
   ]
  },
  {
   "cell_type": "code",
   "execution_count": 32,
   "id": "8440e749",
   "metadata": {},
   "outputs": [
    {
     "data": {
      "application/vnd.jupyter.widget-view+json": {
       "model_id": "f0bb9893e68e4935a1b2df4f8c60a941",
       "version_major": 2,
       "version_minor": 0
      },
      "text/plain": [
       "combining cities and countries:   0%|          | 0/9 [00:00<?, ?it/s]"
      ]
     },
     "metadata": {},
     "output_type": "display_data"
    },
    {
     "name": "stdout",
     "output_type": "stream",
     "text": [
      "\n",
      "Tokyo, Japan\n",
      "Seoul, Japan\n",
      "Beijing, Japan\n",
      "Tokyo, Korea\n",
      "Seoul, Korea\n",
      "Beijing, Korea\n",
      "Tokyo, China\n",
      "Seoul, China\n",
      "Beijing, China\n"
     ]
    }
   ],
   "source": [
    "from tqdm.contrib.itertools import product as tqdmproduct\n",
    "import time\n",
    "printstring = \"\"\n",
    "for country, city in tqdmproduct(countries, cities, desc = \"combining cities and countries\"):\n",
    "    printstring = printstring + (f\"\\n{city}, {country}\")\n",
    "    time.sleep(0.3)\n",
    "print(printstring)"
   ]
  },
  {
   "cell_type": "markdown",
   "id": "expressed-century",
   "metadata": {},
   "source": [
    "#### Comparisons and Logical Operators"
   ]
  },
  {
   "cell_type": "code",
   "execution_count": 33,
   "id": "affecting-thursday",
   "metadata": {},
   "outputs": [
    {
     "data": {
      "text/plain": [
       "True"
      ]
     },
     "execution_count": 33,
     "metadata": {},
     "output_type": "execute_result"
    }
   ],
   "source": [
    "x, y = 1, 2\n",
    "x < y"
   ]
  },
  {
   "cell_type": "code",
   "execution_count": 34,
   "id": "miniature-adult",
   "metadata": {},
   "outputs": [
    {
     "data": {
      "text/plain": [
       "False"
      ]
     },
     "execution_count": 34,
     "metadata": {},
     "output_type": "execute_result"
    }
   ],
   "source": [
    "x = 1 # Assignment\n",
    "x == 2 # Comparison"
   ]
  },
  {
   "cell_type": "code",
   "execution_count": 35,
   "id": "internal-wiring",
   "metadata": {},
   "outputs": [
    {
     "data": {
      "text/plain": [
       "True"
      ]
     },
     "execution_count": 35,
     "metadata": {},
     "output_type": "execute_result"
    }
   ],
   "source": [
    "1 != 2"
   ]
  },
  {
   "cell_type": "code",
   "execution_count": 36,
   "id": "juvenile-reconstruction",
   "metadata": {},
   "outputs": [
    {
     "data": {
      "text/plain": [
       "False"
      ]
     },
     "execution_count": 36,
     "metadata": {},
     "output_type": "execute_result"
    }
   ],
   "source": [
    "1 < 2 and 'g' in 'foo' "
   ]
  },
  {
   "cell_type": "code",
   "execution_count": 37,
   "id": "316e5f8b",
   "metadata": {},
   "outputs": [],
   "source": [
    "tup = (1,2,3)"
   ]
  },
  {
   "cell_type": "code",
   "execution_count": 38,
   "id": "b166a884",
   "metadata": {},
   "outputs": [
    {
     "data": {
      "text/plain": [
       "True"
      ]
     },
     "execution_count": 38,
     "metadata": {},
     "output_type": "execute_result"
    }
   ],
   "source": [
    "4 in tup or 1 in tup"
   ]
  },
  {
   "cell_type": "code",
   "execution_count": 39,
   "id": "7e0541c5",
   "metadata": {},
   "outputs": [
    {
     "data": {
      "text/plain": [
       "True"
      ]
     },
     "execution_count": 39,
     "metadata": {},
     "output_type": "execute_result"
    }
   ],
   "source": [
    "1 < 2 or 'g' in 'foo' "
   ]
  },
  {
   "cell_type": "code",
   "execution_count": 40,
   "id": "49310627",
   "metadata": {},
   "outputs": [
    {
     "data": {
      "text/plain": [
       "True"
      ]
     },
     "execution_count": 40,
     "metadata": {},
     "output_type": "execute_result"
    }
   ],
   "source": [
    "1 < 2 and not 'g' in 'foo' "
   ]
  },
  {
   "cell_type": "code",
   "execution_count": 41,
   "id": "humanitarian-karen",
   "metadata": {},
   "outputs": [
    {
     "name": "stdout",
     "output_type": "stream",
     "text": [
      "-1\n",
      "1\n",
      "-1\n",
      "1\n"
     ]
    }
   ],
   "source": [
    "numbers = [-9, 2.3, -11, 0]\n",
    "\n",
    "for x in numbers:\n",
    "    if x < 0:\n",
    "        print(-1)\n",
    "    else:\n",
    "        print(1)"
   ]
  },
  {
   "cell_type": "markdown",
   "id": "native-audience",
   "metadata": {},
   "source": [
    "### Functions\n",
    "\n",
    "As in any programming language, functions in Python are objects that take a number of inputs, perform an operation on those inputs, and return an output. Functions in Python have two types of inputs, these are positional inputs and named inputs.  "
   ]
  },
  {
   "cell_type": "markdown",
   "id": "9199a1cd",
   "metadata": {},
   "source": [
    "#### A function with one positional input:\n",
    "\n",
    "This function checks a number and tells you if it is positive or negative"
   ]
  },
  {
   "cell_type": "code",
   "execution_count": 42,
   "id": "favorite-conversion",
   "metadata": {},
   "outputs": [
    {
     "data": {
      "text/plain": [
       "'nonnegative'"
      ]
     },
     "execution_count": 42,
     "metadata": {},
     "output_type": "execute_result"
    }
   ],
   "source": [
    "def check_negative(x):\n",
    "    if x < 0:\n",
    "        return 'negative'\n",
    "    return 'nonnegative'\n",
    "check_negative(5)"
   ]
  },
  {
   "cell_type": "markdown",
   "id": "07719c8e",
   "metadata": {},
   "source": [
    "#### A function with two positional inputs: \n",
    "\n",
    "This function adds the two elements it gets (Note it works with any type, so for instance with strings it appends them)"
   ]
  },
  {
   "cell_type": "code",
   "execution_count": 43,
   "id": "1f611802",
   "metadata": {},
   "outputs": [
    {
     "name": "stdout",
     "output_type": "stream",
     "text": [
      "7\n",
      "34\n"
     ]
    }
   ],
   "source": [
    "def sum(a, b):\n",
    "    return a + b\n",
    "    \n",
    "print(sum(3, 4))\n",
    "print(sum('3', '4'))"
   ]
  },
  {
   "cell_type": "markdown",
   "id": "43071c7e",
   "metadata": {},
   "source": [
    "#### Inputting an arbitrary number of positional inputs: Using `*args`\n",
    "\n",
    "Creating functions that only take a fixed number of inputs can be very limiting. In our example of a function that adds things, we want the function to have an arbitrary number of inputs. When the inputs are of the same type, Python offers an elegant solution which is to define functions that accept an unpacked tuple of arbitrary size, conventionally named `*args`.\n",
    "\n",
    "What this means is that we can define a function like this:"
   ]
  },
  {
   "cell_type": "code",
   "execution_count": 44,
   "id": "33505e8e",
   "metadata": {},
   "outputs": [],
   "source": [
    "def add(*args):\n",
    "    a = 0\n",
    "    for i in args:\n",
    "        a = a + i\n",
    "    return a"
   ]
  },
  {
   "cell_type": "markdown",
   "id": "2ddacd8d",
   "metadata": {},
   "source": [
    "Then, this function accepts an arbitrary number of inputs:"
   ]
  },
  {
   "cell_type": "code",
   "execution_count": 45,
   "id": "90442b4a",
   "metadata": {},
   "outputs": [
    {
     "name": "stdout",
     "output_type": "stream",
     "text": [
      "7\n",
      "95\n"
     ]
    }
   ],
   "source": [
    "print(add(1, 2, 4))\n",
    "print(add(2,4,4,5,3,54,5,3,3,4,4,4))"
   ]
  },
  {
   "cell_type": "markdown",
   "id": "f313da58",
   "metadata": {},
   "source": [
    "And also an unpacked tuple:"
   ]
  },
  {
   "cell_type": "code",
   "execution_count": 46,
   "id": "c5c97124",
   "metadata": {},
   "outputs": [
    {
     "name": "stdout",
     "output_type": "stream",
     "text": [
      "83\n"
     ]
    }
   ],
   "source": [
    "tuple_to_add = (2,4,4,5,3,54,5,3,3)\n",
    "print(add(*tuple_to_add))"
   ]
  },
  {
   "cell_type": "markdown",
   "id": "02bdf141",
   "metadata": {},
   "source": [
    "#### Functions with named inputs:\n",
    "\n",
    "Besides positional inputs, which are based on order, functions can have named inputs which always go behind the positional inputs, if there are any. As you will see later, these will be very useful for functions with default inputs. \n",
    "\n",
    "Here we will make the same adding function as before, but now it has an additional named argument, which is the text that you want to print before seeing the result."
   ]
  },
  {
   "cell_type": "code",
   "execution_count": 47,
   "id": "07db4e72",
   "metadata": {},
   "outputs": [
    {
     "name": "stdout",
     "output_type": "stream",
     "text": [
      "The result of adding up (2, 4, 4, 5, 3, 54, 5, 3, 3) is:  83\n"
     ]
    }
   ],
   "source": [
    "def add(*args, text):\n",
    "    a = 0\n",
    "    for i in args:\n",
    "        a = a + i\n",
    "    print(f'{text} {a}')\n",
    "\n",
    "add(*tuple_to_add, text = f'The result of adding up {tuple_to_add} is: ')"
   ]
  },
  {
   "cell_type": "markdown",
   "id": "bd574904",
   "metadata": {},
   "source": [
    "#### Functions can have default named inputs:\n",
    "\n",
    "Functions can have inputs which are set by default. For instance, in the function above where it prints a text, it might be very annoying to input the text each time. A solution for this is to create a function where some named inputs have a default, which is done as so:"
   ]
  },
  {
   "cell_type": "code",
   "execution_count": 48,
   "id": "68ff3697",
   "metadata": {},
   "outputs": [
    {
     "name": "stdout",
     "output_type": "stream",
     "text": [
      "The result of adding up (2, 4, 4, 5, 3, 54, 5, 3, 3) is:  83\n",
      "Adding up (2, 4, 4, 5, 3, 54, 5, 3, 3) equals:  83\n"
     ]
    }
   ],
   "source": [
    "def add(\n",
    "    *args, \n",
    "    text = 'The result of adding up these numbers is: '\n",
    "    ):\n",
    "    text = text.replace('these numbers', f'{args}')\n",
    "    a = 0\n",
    "    for i in args:\n",
    "        a = a + i\n",
    "    print(f'{text} {a}')\n",
    "\n",
    "##If we do not input any text, the default text is printed:\n",
    "add(*tuple_to_add)\n",
    "\n",
    "##If we add a text input, the text that it prints changes:\n",
    "add(*tuple_to_add, text = 'Adding up these numbers equals: ')"
   ]
  },
  {
   "cell_type": "markdown",
   "id": "b424acf2",
   "metadata": {},
   "source": [
    "#### Inputting a dictionary of named inputs: using `**kwargs`\n",
    "\n",
    "The same way that functions can have an arbitrary number of inputs of positional arguments, they can have an arbitrary number of optional named arguments. For example, in the \"add\" function we will allow it to have inputs that change the style in which the text is printed.\n",
    "\n",
    "This is better understood when you begin using libraries that call other libraries that call other libraries, since it is used extensively to pass arguments between functions (i.e. function A has its own inputs, but calls itself function B which has its own set of named inputs, and these are passed in the form of optional `**kwargs`). In our example this is the case too, our `add` function will use the enriched `print` function from the `console` package in the `rich` module. As such, the `**kwargs` that we pass into `add` will be those that go straight into the `console.print` function. \n",
    "\n",
    "`**kwargs` are just a flexible way of having the option of giving many named inputs to a function, but without the need of specifying all of them every time."
   ]
  },
  {
   "cell_type": "code",
   "execution_count": 49,
   "id": "8b50a1bb",
   "metadata": {},
   "outputs": [],
   "source": [
    "from rich.console import Console\n",
    "from colorama import just_fix_windows_console"
   ]
  },
  {
   "cell_type": "code",
   "execution_count": 50,
   "id": "84f83cbd",
   "metadata": {},
   "outputs": [],
   "source": [
    "def add(\n",
    "    *args, \n",
    "    text = 'The result of adding up these numbers is: ',\n",
    "    **kwargs\n",
    "    ):\n",
    "    just_fix_windows_console()\n",
    "    console = Console()\n",
    "    text = text.replace('these numbers', f'{args}')\n",
    "    a = 0\n",
    "    for i in args:\n",
    "        a = a + i\n",
    "\n",
    "    console.print(f'{text} {str(a)}',**kwargs)"
   ]
  },
  {
   "cell_type": "markdown",
   "id": "b101de9d",
   "metadata": {},
   "source": [
    "Here we use the rich package to pass styling options into the line that we print:"
   ]
  },
  {
   "cell_type": "code",
   "execution_count": 51,
   "id": "d475529b",
   "metadata": {},
   "outputs": [
    {
     "data": {
      "text/html": [
       "<pre style=\"white-space:pre;overflow-x:auto;line-height:normal;font-family:Menlo,'DejaVu Sans Mono',consolas,'Courier New',monospace\"><span style=\"color: #c0c0c0; text-decoration-color: #c0c0c0; background-color: #000000; font-weight: bold; font-style: italic\">                                Adding up (</span><span style=\"color: #008080; text-decoration-color: #008080; background-color: #000000; font-weight: bold\">2</span><span style=\"color: #c0c0c0; text-decoration-color: #c0c0c0; background-color: #000000; font-weight: bold; font-style: italic\">, </span><span style=\"color: #008080; text-decoration-color: #008080; background-color: #000000; font-weight: bold\">4</span><span style=\"color: #c0c0c0; text-decoration-color: #c0c0c0; background-color: #000000; font-weight: bold; font-style: italic\">, </span><span style=\"color: #008080; text-decoration-color: #008080; background-color: #000000; font-weight: bold\">4</span><span style=\"color: #c0c0c0; text-decoration-color: #c0c0c0; background-color: #000000; font-weight: bold; font-style: italic\">, </span><span style=\"color: #008080; text-decoration-color: #008080; background-color: #000000; font-weight: bold\">5</span><span style=\"color: #c0c0c0; text-decoration-color: #c0c0c0; background-color: #000000; font-weight: bold; font-style: italic\">, </span><span style=\"color: #008080; text-decoration-color: #008080; background-color: #000000; font-weight: bold\">3</span><span style=\"color: #c0c0c0; text-decoration-color: #c0c0c0; background-color: #000000; font-weight: bold; font-style: italic\">, </span><span style=\"color: #008080; text-decoration-color: #008080; background-color: #000000; font-weight: bold\">54</span><span style=\"color: #c0c0c0; text-decoration-color: #c0c0c0; background-color: #000000; font-weight: bold; font-style: italic\">, </span><span style=\"color: #008080; text-decoration-color: #008080; background-color: #000000; font-weight: bold\">5</span><span style=\"color: #c0c0c0; text-decoration-color: #c0c0c0; background-color: #000000; font-weight: bold; font-style: italic\">, </span><span style=\"color: #008080; text-decoration-color: #008080; background-color: #000000; font-weight: bold\">3</span><span style=\"color: #c0c0c0; text-decoration-color: #c0c0c0; background-color: #000000; font-weight: bold; font-style: italic\">, </span><span style=\"color: #008080; text-decoration-color: #008080; background-color: #000000; font-weight: bold\">3</span><span style=\"color: #c0c0c0; text-decoration-color: #c0c0c0; background-color: #000000; font-weight: bold; font-style: italic\">) equals:  </span><span style=\"color: #008080; text-decoration-color: #008080; background-color: #000000; font-weight: bold\">83</span><span style=\"color: #c0c0c0; text-decoration-color: #c0c0c0; background-color: #000000; font-weight: bold; font-style: italic\">                                 </span>\n",
       "</pre>\n"
      ],
      "text/plain": [
       "\u001b[1;3;37;40m                                \u001b[0m\u001b[1;3;37;40mAdding up \u001b[0m\u001b[1;3;37;40m(\u001b[0m\u001b[1;36;40m2\u001b[0m\u001b[1;3;37;40m, \u001b[0m\u001b[1;36;40m4\u001b[0m\u001b[1;3;37;40m, \u001b[0m\u001b[1;36;40m4\u001b[0m\u001b[1;3;37;40m, \u001b[0m\u001b[1;36;40m5\u001b[0m\u001b[1;3;37;40m, \u001b[0m\u001b[1;36;40m3\u001b[0m\u001b[1;3;37;40m, \u001b[0m\u001b[1;36;40m54\u001b[0m\u001b[1;3;37;40m, \u001b[0m\u001b[1;36;40m5\u001b[0m\u001b[1;3;37;40m, \u001b[0m\u001b[1;36;40m3\u001b[0m\u001b[1;3;37;40m, \u001b[0m\u001b[1;36;40m3\u001b[0m\u001b[1;3;37;40m)\u001b[0m\u001b[1;3;37;40m equals:  \u001b[0m\u001b[1;36;40m83\u001b[0m\u001b[1;3;37;40m                                 \u001b[0m\n"
      ]
     },
     "metadata": {},
     "output_type": "display_data"
    }
   ],
   "source": [
    "add(*tuple_to_add, text = 'Adding up these numbers equals: ', style = 'bold italic white on black', justify = 'center')"
   ]
  },
  {
   "attachments": {},
   "cell_type": "markdown",
   "id": "269b96db",
   "metadata": {},
   "source": [
    "### Object-oriented programming in Python: `classes` and `methods`\n",
    "\n",
    "Python is an object-oriented language. In OOP languages, objects belong to `classes`, which have `attributes` (Pieces of information that are attached to the object) and `methods` (Functions that are attached to the object and which work for all objects of the same class). \n",
    "\n",
    "\n",
    "For example, below we define the classes `Human` and `Dog`. These two classes will come with some attributes by default, as well as some others that are optional. They will have some methods that change their attributes and/or allow them to perform actions, as well as interact with one another.\n",
    "\n",
    "\"Attributes\" are pieces of information that we attach to an object. For the class \"Dog\" it is things like its breed, name, color, and so on. For a geographic dataset, it might be things like the geographic projection, dimensions, the index, and more. Later on, to get the breed of the dog named Milu, we type  `Milu.breed`.\n",
    "\n",
    "\"Methods\" are functions that we attach to objects belonging to a given class, and which might allow them to interact with other objects of the same of different classes. \n",
    "For instance, Numpy arrays have a method `np.array.mean()`. This is a method included in the Numpy package which works very efficiently because it uses a fast backend written in C. You can peform this computation in other ways, but this is an included method that is fast and performant. \n",
    "\n",
    "```python\n",
    "import numpy as np\n",
    "myarray = np.array([[4,4,3], [3, 7, 8]])\n",
    "myarray.mean()\n",
    "``` \n",
    "`4.833333333333333`\n",
    "\n",
    "If I want to compute the mean of the array along its columns, I will add the `**kwargs`: `axis = 0`:\n",
    "\n",
    "```python\n",
    "myarray.mean(axis = 0)\n",
    "```\n",
    "`array([3.5, 5.5, 5.5])`\n",
    "\n",
    "Along the rows: \n",
    "\n",
    "```python\n",
    "myarray.mean(axis = 1)\n",
    "```\n",
    "`myarray.mean(axis = 1)`\n",
    "\n",
    "Generally, when developers create a library that allows the use of new classes (The way `pandas` implements a form of dataframes, for example) they will also implement a large number of associated methods which are typically well optimized. It is usually advisable to read well the documentation on what is available in terms of already implemented functions and tools, before venturing into doing everything from scratch. "
   ]
  },
  {
   "cell_type": "markdown",
   "id": "cf4c705b",
   "metadata": {},
   "source": [
    "#### The classes `Human` and `Dog`\n",
    "Here, we have a very simple example of two classes of object, `Human` and `Dog`, and the ways that they can interact through built-in methods. \n",
    "\n",
    "We first define `Human`. Humans have two attributes: their `name` and whether they are `tired` or not. "
   ]
  },
  {
   "cell_type": "code",
   "execution_count": 87,
   "id": "20eafe5b",
   "metadata": {},
   "outputs": [],
   "source": [
    "import numpy as np\n",
    "class Human:\n",
    "    animal = 'Homo Sapiens'\n",
    "    def __init__(self, name):  \n",
    "        # Instance Variable  \n",
    "        self.name = name\n",
    "        self.tired = False\n",
    "\n",
    "        #Function that defines what to represent when typing `human`\n",
    "    def __repr__(self):\n",
    "        stri = \"Human(\"\n",
    "        for key, value in self.__dict__.items():\n",
    "            stri = stri + str(key) + ' : ' + str(value) + ', '\n",
    "        \n",
    "        print(r\"\"\"_/ _ _ \\_  \n",
    "(o / | \\ o)\n",
    " || o|o ||\n",
    " | \\_|_/ |\n",
    " |  ___  |\n",
    " | (___) |\n",
    " |\\_____/|\n",
    " | \\___/ |\n",
    " \\       /\n",
    "  \\__ __/\n",
    "     U\"\"\")\n",
    "        return stri + \")\" \n",
    "\n",
    "    #Self-contained method: resting. Changes rested status\n",
    "    def Rest(self):\n",
    "        if self.tired == True:\n",
    "            print(self.name + \" has rested\")\n",
    "            self.tired = False\n",
    "        else: print(f'{self.name} is not tired right now')\n",
    "\n",
    "    def Greet(self, other):\n",
    "        print(self.name + ' greets ' + other.name)\n",
    "\n",
    "    #function to walk, alone or with a dog!\n",
    "    def Walk(self, **kwargs):\n",
    "        if 'other' in kwargs.keys(): ##Walk with somebody else\n",
    "            other = kwargs['other']\n",
    "            try: ##This will fail if the creature you try to walk has no owner attribute, will go to the except\n",
    "                if other.owner == self.name:\n",
    "                    if self.tired == True:\n",
    "                        print(f\"{self.name} is too tired to walk the dog\")\n",
    "                    else: \n",
    "                        if other.name == None:\n",
    "                            print(self.name + ' walks their ' + other.breed)\n",
    "                        else: print(self.name + ' walks ' + other.name)\n",
    "                        self.tired = True; other.tired = True\n",
    "                elif not other.owner == None:\n",
    "                    print('This ' + other.breed + ' belongs to ' + other.owner + ', he does not trust ' + self.name)\n",
    "                else: print('This ' + other.breed + ' seems to have no owner, maybe you can pet it')\n",
    "            except: ##If now owner attribute, can walk with a human\n",
    "                if other.animal == 'Homo Sapiens':\n",
    "                    print(f\"{self.name} takes a walk with {other.name}\")\n",
    "                else:\n",
    "                    print(f\"{self.name} , you cannot walk a {other.animal} for a walk!\")\n",
    "        else: ##Take a walk alone\n",
    "            print(f\"{self.name} goes for a walk\")\n",
    "\n",
    "    def Pet(self, other):\n",
    "        if other.animal =='dog':\n",
    "            if other.owner == self.name:\n",
    "                if other.name == None:\n",
    "                    print(self.name + ' pets their ' + other.breed)\n",
    "                else: print(self.name + ' pets ' + other.name)\n",
    "            elif (not other.owner == self.name) and (not other.owner == None):\n",
    "                print(self.name + ' pets ' + other.owner + \"'s dog\")\n",
    "            else: \n",
    "                print(self.name + ' pets ' + other.breed + ', it seems to like them very much!')\n",
    "                other.setOwner(self.name)\n",
    "        else: \n",
    "            print(f\"{self.name}, you cannot pet a {other.animal} like they're a dog!\")\n",
    "\n",
    "Tintin = Human(\"Tintin\")"
   ]
  },
  {
   "cell_type": "code",
   "execution_count": 53,
   "id": "82b1fed7",
   "metadata": {},
   "outputs": [],
   "source": [
    "class Dog: \n",
    "    # Class Variable  \n",
    "    animal = 'dog'      \n",
    "\n",
    "    # The init method or constructor  \n",
    "    def __init__(self, breed):  \n",
    "\n",
    "        # Instance Variable  \n",
    "        self.breed = breed     \n",
    "        self.name = None\n",
    "        self.color = None\n",
    "        self.owner = None   \n",
    "        self.tired = False\n",
    "\n",
    "    #Function that defines what to print to the screen when asking for a dog class object\n",
    "    def __repr__(self):\n",
    "        stri = \"Dog(\"\n",
    "        for key, value in self.__dict__.items():\n",
    "            stri = stri + str(key) + ' : ' + str(value) + ', '\n",
    "        \n",
    "        print(r\"\"\"  __      _\n",
    "o'')}____//\n",
    " `_/      )\n",
    " (_(_/-(_/\n",
    "            \"\"\")\n",
    "        return stri + \")\" \n",
    "\n",
    "    # Adds an instance variable   \n",
    "    def setColor(self, color):  \n",
    "        self.color = color  \n",
    "    #Add another instance variable: Owner\n",
    "    def setOwner(self, owner):\n",
    "        self.owner = owner\n",
    "    #And another: Name!!!\n",
    "    def setName(self, name):\n",
    "        self.name = name\n",
    "\n",
    "    #Self-contained method: barking\n",
    "    def Bark(self, ntimes = 1):\n",
    "        bark = \"Woof! \"\n",
    "        print(bark*ntimes)\n",
    "\n",
    "    def Rest(self):\n",
    "        if self.tired == True:\n",
    "            if self.name == None:\n",
    "                print(self.breed + \" rested, he's ready to fight again\")\n",
    "            else: print(self.name + \" rested, he's ready to fight again\")\n",
    "            self.tired = False\n",
    "        else: print('Come on, no need to rest!')\n",
    "\n",
    "    #function to fight with another dog\n",
    "    def Fight(self, other):\n",
    "        if self.tired == True:\n",
    "            loser = self; winner = other\n",
    "            if self.name == None:\n",
    "                print(self.breed + ' was too tired to fight, he needs to rest!')\n",
    "            else: print(self.name + ' was too tired to fight, he needs to rest!')\n",
    "        elif other.tired == True:\n",
    "            winner = self; loser = other\n",
    "            if self.name == None:\n",
    "                print(self.breed + ' wins, the other dog was exhausted!')\n",
    "            else: print(self.name + ' wins, the other dog was exhausted!')\n",
    "        else:\n",
    "            eps = np.random.random([1])\n",
    "            #Who wins?\n",
    "            if eps > 0.5: winner = self; loser = other\n",
    "            else: winner = other; loser = self\n",
    "            #By how much?\n",
    "            if abs(0.5-eps) < 0.25: text = ' barely beats '\n",
    "            else: text = ' beats the shit out of '\n",
    "            #Output\n",
    "            if winner.name == None and loser.name == None:\n",
    "                print(winner.breed + text + winner.breed)\n",
    "            elif (not winner.name == None) and loser.name == None: \n",
    "                print(winner.name + text + loser.breed)\n",
    "            elif (winner.name == None) and (not loser.name == None): \n",
    "                print(winner.breed + text + loser.name)\n",
    "            else: print(winner.name + text + loser.name)\n",
    "        loser.tired = True ##Changed tired status of loser\n",
    "        return "
   ]
  },
  {
   "cell_type": "code",
   "execution_count": 54,
   "id": "f303c3f0",
   "metadata": {},
   "outputs": [
    {
     "name": "stdout",
     "output_type": "stream",
     "text": [
      "_/ _ _ \\_  \n",
      "(o / | \\ o)\n",
      " || o|o ||\n",
      " | \\_|_/ |\n",
      " |  ___  |\n",
      " | (___) |\n",
      " |\\_____/|\n",
      " | \\___/ |\n",
      " \\       /\n",
      "  \\__ __/\n",
      "     U\n"
     ]
    },
    {
     "data": {
      "text/plain": [
       "Human(name : Tintin, tired : False, )"
      ]
     },
     "execution_count": 54,
     "metadata": {},
     "output_type": "execute_result"
    }
   ],
   "source": [
    "Tintin"
   ]
  },
  {
   "cell_type": "code",
   "execution_count": 78,
   "id": "ca59bacb",
   "metadata": {},
   "outputs": [
    {
     "name": "stdout",
     "output_type": "stream",
     "text": [
      "  __      _\n",
      "o'')}____//\n",
      " `_/      )\n",
      " (_(_/-(_/\n",
      "            \n",
      "Dog(breed : pug, name : None, color : brown, owner : None, tired : False, )\n",
      "  __      _\n",
      "o'')}____//\n",
      " `_/      )\n",
      " (_(_/-(_/\n",
      "            \n",
      "Dog(breed : pug, name : Rodger, color : brown, owner : None, tired : False, )\n"
     ]
    }
   ],
   "source": [
    "#Make a dog called Rodger:\n",
    "Rodger = Dog(\"pug\"); Rodger.setColor(\"brown\")  \n",
    "# Rodger.setName(\"Rodger\")\n",
    "print(Rodger)\n",
    "Rodger.setName('Rodger')\n",
    "print(Rodger)"
   ]
  },
  {
   "cell_type": "code",
   "execution_count": 56,
   "id": "6b9b3ee9",
   "metadata": {},
   "outputs": [
    {
     "name": "stdout",
     "output_type": "stream",
     "text": [
      "  __      _\n",
      "o'')}____//\n",
      " `_/      )\n",
      " (_(_/-(_/\n",
      "            \n"
     ]
    },
    {
     "data": {
      "text/plain": [
       "Dog(breed : Fox Terrier, name : Milu, color : White, owner : Tintin, tired : False, )"
      ]
     },
     "execution_count": 56,
     "metadata": {},
     "output_type": "execute_result"
    }
   ],
   "source": [
    "#Make a dog called Milu:\n",
    "Milu = Dog(\"Fox Terrier\"); Milu.setColor(\"White\"); Milu.setOwner('Tintin'); Milu.setName('Milu')\n",
    "Milu"
   ]
  },
  {
   "cell_type": "code",
   "execution_count": 81,
   "id": "3f9edf3a",
   "metadata": {},
   "outputs": [
    {
     "name": "stdout",
     "output_type": "stream",
     "text": [
      "Milu was too tired to fight, he needs to rest!\n"
     ]
    }
   ],
   "source": [
    "Milu.Fight(Rodger)"
   ]
  },
  {
   "cell_type": "code",
   "execution_count": 82,
   "id": "70dae30a",
   "metadata": {},
   "outputs": [
    {
     "name": "stdout",
     "output_type": "stream",
     "text": [
      "Rodger wins, the other dog was exhausted!\n"
     ]
    }
   ],
   "source": [
    "Rodger.Fight(Milu)"
   ]
  },
  {
   "cell_type": "code",
   "execution_count": 59,
   "id": "8dc27819",
   "metadata": {},
   "outputs": [],
   "source": [
    "Rodger.setName('Rodger')"
   ]
  },
  {
   "cell_type": "code",
   "execution_count": 60,
   "id": "16706011",
   "metadata": {},
   "outputs": [
    {
     "name": "stdout",
     "output_type": "stream",
     "text": [
      "Come on, no need to rest!\n"
     ]
    }
   ],
   "source": [
    "Milu.Rest()"
   ]
  },
  {
   "cell_type": "code",
   "execution_count": 61,
   "id": "c2ce3fc8",
   "metadata": {},
   "outputs": [
    {
     "name": "stdout",
     "output_type": "stream",
     "text": [
      "Milu wins, the other dog was exhausted!\n"
     ]
    }
   ],
   "source": [
    "Milu.Fight(Rodger)"
   ]
  },
  {
   "cell_type": "code",
   "execution_count": 62,
   "id": "a2c0b9d1",
   "metadata": {},
   "outputs": [
    {
     "data": {
      "text/plain": [
       "False"
      ]
     },
     "execution_count": 62,
     "metadata": {},
     "output_type": "execute_result"
    }
   ],
   "source": [
    "Milu.tired"
   ]
  },
  {
   "cell_type": "code",
   "execution_count": 88,
   "id": "a5a99513",
   "metadata": {},
   "outputs": [
    {
     "name": "stdout",
     "output_type": "stream",
     "text": [
      "Tintin walks Milu\n"
     ]
    }
   ],
   "source": [
    "Tintin.Walk(other =  Milu)"
   ]
  },
  {
   "cell_type": "code",
   "execution_count": 64,
   "id": "3ddd4e71",
   "metadata": {},
   "outputs": [
    {
     "name": "stdout",
     "output_type": "stream",
     "text": [
      "Tintin goes for a walk\n"
     ]
    }
   ],
   "source": [
    "Tintin.Walk()"
   ]
  },
  {
   "cell_type": "code",
   "execution_count": 65,
   "id": "7a872f47",
   "metadata": {},
   "outputs": [
    {
     "name": "stdout",
     "output_type": "stream",
     "text": [
      "Tintin pets pug, it seems to like them very much!\n"
     ]
    }
   ],
   "source": [
    "Tintin.Pet(Rodger)"
   ]
  },
  {
   "cell_type": "code",
   "execution_count": 66,
   "id": "39a7ecbf",
   "metadata": {},
   "outputs": [],
   "source": [
    "Amelia = Human('Amelia')"
   ]
  },
  {
   "cell_type": "code",
   "execution_count": 67,
   "id": "9b8d1ef8",
   "metadata": {},
   "outputs": [
    {
     "name": "stdout",
     "output_type": "stream",
     "text": [
      "Tintin barely beats Milu\n"
     ]
    }
   ],
   "source": [
    "Milu.Fight(Tintin)"
   ]
  },
  {
   "cell_type": "code",
   "execution_count": 68,
   "id": "5b508be1",
   "metadata": {},
   "outputs": [
    {
     "name": "stdout",
     "output_type": "stream",
     "text": [
      "Milu rested, he's ready to fight again\n"
     ]
    }
   ],
   "source": [
    "Milu.Rest()"
   ]
  },
  {
   "cell_type": "code",
   "execution_count": 69,
   "id": "66a9c105",
   "metadata": {},
   "outputs": [
    {
     "name": "stdout",
     "output_type": "stream",
     "text": [
      "Tintin greets Milu\n"
     ]
    }
   ],
   "source": [
    "Tintin.Greet(Milu)"
   ]
  },
  {
   "cell_type": "code",
   "execution_count": 84,
   "id": "032e53e1",
   "metadata": {},
   "outputs": [
    {
     "name": "stdout",
     "output_type": "stream",
     "text": [
      "Milu was too tired to fight, he needs to rest!\n"
     ]
    }
   ],
   "source": [
    "Milu.Fight(Amelia)"
   ]
  },
  {
   "cell_type": "code",
   "execution_count": 83,
   "id": "3c211632",
   "metadata": {},
   "outputs": [
    {
     "name": "stdout",
     "output_type": "stream",
     "text": [
      "Tintin, you cannot pet a Homo Sapiens like they're a dog!\n"
     ]
    }
   ],
   "source": [
    "Tintin.Pet(Amelia)"
   ]
  },
  {
   "cell_type": "code",
   "execution_count": 89,
   "id": "40d80181",
   "metadata": {},
   "outputs": [
    {
     "name": "stdout",
     "output_type": "stream",
     "text": [
      "Tintin takes a walk with Amelia\n"
     ]
    }
   ],
   "source": [
    "Tintin.Walk(other = Amelia)"
   ]
  },
  {
   "cell_type": "code",
   "execution_count": 90,
   "id": "52d20600",
   "metadata": {},
   "outputs": [
    {
     "name": "stdout",
     "output_type": "stream",
     "text": [
      "Tintin has rested\n"
     ]
    }
   ],
   "source": [
    "Tintin.Rest()"
   ]
  },
  {
   "cell_type": "code",
   "execution_count": 91,
   "id": "5bc0981f",
   "metadata": {},
   "outputs": [
    {
     "name": "stdout",
     "output_type": "stream",
     "text": [
      "Woof! Woof! Woof! Woof! \n"
     ]
    }
   ],
   "source": [
    "Rodger.Bark(4)"
   ]
  },
  {
   "cell_type": "code",
   "execution_count": 74,
   "id": "ecd547e0",
   "metadata": {},
   "outputs": [],
   "source": [
    "class Chaos:\n",
    "  \"\"\"\n",
    "  Models the dynamical system :math:`x_{t+1} = r x_t (1 - x_t)`\n",
    "  \"\"\"\n",
    "  def __init__(self, x0, r):\n",
    "      \"\"\"\n",
    "      Initialize with state x0 and parameter r\n",
    "      \"\"\"\n",
    "      self.x, self.r = x0, r\n",
    "\n",
    "  def update(self):\n",
    "      \"Apply the map to update state.\"\n",
    "      self.x =  self.r * self.x *(1 - self.x)\n",
    "\n",
    "  def generate_sequence(self, n):\n",
    "      \"Generate and return a sequence of length n.\"\n",
    "      path = []\n",
    "      for i in range(n):\n",
    "          path.append(self.x)\n",
    "          self.update()\n",
    "      return path"
   ]
  },
  {
   "cell_type": "code",
   "execution_count": 75,
   "id": "132a0190",
   "metadata": {},
   "outputs": [
    {
     "data": {
      "image/png": "[encoded data removed]",
      "text/plain": [
       "<Figure size 640x480 with 1 Axes>"
      ]
     },
     "metadata": {},
     "output_type": "display_data"
    }
   ],
   "source": [
    "import matplotlib.pyplot as plt\n",
    "fig, ax = plt.subplots()\n",
    "ch = Chaos(0.1, 4)\n",
    "r = 2.5\n",
    "while r < 4:\n",
    "    ch.r = r\n",
    "    t = ch.generate_sequence(1000)[950:]\n",
    "    ax.plot([r] * len(t), t, 'b.', ms=0.6)\n",
    "    r = r + 0.005\n",
    "\n",
    "ax.set_xlabel('$r$', fontsize=16)\n",
    "ax.set_ylabel('$x_t$', fontsize=16)\n",
    "plt.show()"
   ]
  }
 ],
 "metadata": {
  "kernelspec": {
   "display_name": "Python 3 (ipykernel)",
   "language": "python",
   "name": "python3"
  },
  "language_info": {
   "codemirror_mode": {
    "name": "ipython",
    "version": 3
   },
   "file_extension": ".py",
   "mimetype": "text/x-python",
   "name": "python",
   "nbconvert_exporter": "python",
   "pygments_lexer": "ipython3",
   "version": "3.10.12"
  },
  "vscode": {
   "interpreter": {
    "hash": "682183d1e1ea710cdea3a31eb6787b575e9eca5ed909d8154604d7d2a5c5c515"
   }
  }
 },
 "nbformat": 4,
 "nbformat_minor": 5
}
